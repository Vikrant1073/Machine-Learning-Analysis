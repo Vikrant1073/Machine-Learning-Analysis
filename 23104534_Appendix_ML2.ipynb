{
 "cells": [
  {
   "cell_type": "markdown",
   "id": "1dea5cd1",
   "metadata": {},
   "source": [
    "# Machile Learning Assignment 2 \n",
    "## (Splitting dataset using test_train_split)"
   ]
  },
  {
   "cell_type": "markdown",
   "id": "ba538256",
   "metadata": {},
   "source": [
    "<H4>Name: Vikrant Singh Jamwal\n",
    "<H4>Class: 1MAI1 (Artificial Intelligence)\n",
    "<H4>Student ID: 23104534"
   ]
  },
  {
   "cell_type": "markdown",
   "id": "79f9ee2a",
   "metadata": {},
   "source": [
    "## Importing Libraries"
   ]
  },
  {
   "cell_type": "code",
   "execution_count": 2,
   "id": "c468cad6-3f13-4b86-8418-d24aedba70f0",
   "metadata": {},
   "outputs": [],
   "source": [
    "import pandas as pd\n",
    "import numpy as np\n",
    "import matplotlib.pyplot as plt\n",
    "from datetime import datetime\n",
    "\n",
    "from sklearn.preprocessing import StandardScaler\n",
    "import seaborn as sns\n",
    "\n",
    "from sklearn.model_selection import train_test_split, KFold, StratifiedKFold, cross_val_score\n",
    "\n",
    "from sklearn.tree import DecisionTreeClassifier\n",
    "from sklearn.ensemble import RandomForestClassifier\n",
    "\n",
    "from sklearn.metrics import accuracy_score, confusion_matrix, classification_report\n",
    "from sklearn.metrics import roc_curve, roc_auc_score, auc, ConfusionMatrixDisplay, RocCurveDisplay\n",
    "from scipy import stats"
   ]
  },
  {
   "cell_type": "markdown",
   "id": "01f14605",
   "metadata": {},
   "source": [
    "# Preprocessing "
   ]
  },
  {
   "cell_type": "markdown",
   "id": "46cf3766",
   "metadata": {},
   "source": [
    "## Data Understanding and Exploration"
   ]
  },
  {
   "cell_type": "code",
   "execution_count": 3,
   "id": "7ffef5ce-f8dc-4c31-b08c-ae564d1b42b7",
   "metadata": {},
   "outputs": [],
   "source": [
    "df=pd.read_csv(\"Improved_All_Combined_hr_rsp_binary.csv\") # Reading the data file"
   ]
  },
  {
   "cell_type": "code",
   "execution_count": 4,
   "id": "d1e7ea84-3f8a-43b1-af3c-d8d8573c3aa4",
   "metadata": {},
   "outputs": [
    {
     "data": {
      "text/html": [
       "<div>\n",
       "<style scoped>\n",
       "    .dataframe tbody tr th:only-of-type {\n",
       "        vertical-align: middle;\n",
       "    }\n",
       "\n",
       "    .dataframe tbody tr th {\n",
       "        vertical-align: top;\n",
       "    }\n",
       "\n",
       "    .dataframe thead th {\n",
       "        text-align: right;\n",
       "    }\n",
       "</style>\n",
       "<table border=\"1\" class=\"dataframe\">\n",
       "  <thead>\n",
       "    <tr style=\"text-align: right;\">\n",
       "      <th></th>\n",
       "      <th>Participant</th>\n",
       "      <th>HR</th>\n",
       "      <th>respr</th>\n",
       "      <th>Time(sec)</th>\n",
       "      <th>Label</th>\n",
       "    </tr>\n",
       "  </thead>\n",
       "  <tbody>\n",
       "    <tr>\n",
       "      <th>0</th>\n",
       "      <td>2</td>\n",
       "      <td>118.00</td>\n",
       "      <td>12.127693</td>\n",
       "      <td>1644227583</td>\n",
       "      <td>0</td>\n",
       "    </tr>\n",
       "    <tr>\n",
       "      <th>1</th>\n",
       "      <td>2</td>\n",
       "      <td>113.50</td>\n",
       "      <td>12.127693</td>\n",
       "      <td>1644227584</td>\n",
       "      <td>0</td>\n",
       "    </tr>\n",
       "    <tr>\n",
       "      <th>2</th>\n",
       "      <td>2</td>\n",
       "      <td>93.00</td>\n",
       "      <td>12.127693</td>\n",
       "      <td>1644227585</td>\n",
       "      <td>0</td>\n",
       "    </tr>\n",
       "    <tr>\n",
       "      <th>3</th>\n",
       "      <td>2</td>\n",
       "      <td>93.25</td>\n",
       "      <td>12.127693</td>\n",
       "      <td>1644227586</td>\n",
       "      <td>0</td>\n",
       "    </tr>\n",
       "    <tr>\n",
       "      <th>4</th>\n",
       "      <td>2</td>\n",
       "      <td>86.40</td>\n",
       "      <td>12.127693</td>\n",
       "      <td>1644227587</td>\n",
       "      <td>0</td>\n",
       "    </tr>\n",
       "  </tbody>\n",
       "</table>\n",
       "</div>"
      ],
      "text/plain": [
       "   Participant      HR      respr   Time(sec)  Label\n",
       "0            2  118.00  12.127693  1644227583      0\n",
       "1            2  113.50  12.127693  1644227584      0\n",
       "2            2   93.00  12.127693  1644227585      0\n",
       "3            2   93.25  12.127693  1644227586      0\n",
       "4            2   86.40  12.127693  1644227587      0"
      ]
     },
     "execution_count": 4,
     "metadata": {},
     "output_type": "execute_result"
    }
   ],
   "source": [
    "df.head() # To see top 5 rows of the dataset"
   ]
  },
  {
   "cell_type": "code",
   "execution_count": 5,
   "id": "007e74f9",
   "metadata": {},
   "outputs": [
    {
     "data": {
      "text/plain": [
       "(112516, 5)"
      ]
     },
     "execution_count": 5,
     "metadata": {},
     "output_type": "execute_result"
    }
   ],
   "source": [
    "df.shape # To check the number of rows and columns in the data set (rows, columns)"
   ]
  },
  {
   "cell_type": "markdown",
   "id": "46ca9412",
   "metadata": {},
   "source": [
    "### Visualising the range of each Column"
   ]
  },
  {
   "cell_type": "code",
   "execution_count": 6,
   "id": "2e89d5e7",
   "metadata": {
    "scrolled": false
   },
   "outputs": [
    {
     "data": {
      "text/html": [
       "<div>\n",
       "<style scoped>\n",
       "    .dataframe tbody tr th:only-of-type {\n",
       "        vertical-align: middle;\n",
       "    }\n",
       "\n",
       "    .dataframe tbody tr th {\n",
       "        vertical-align: top;\n",
       "    }\n",
       "\n",
       "    .dataframe thead th {\n",
       "        text-align: right;\n",
       "    }\n",
       "</style>\n",
       "<table border=\"1\" class=\"dataframe\">\n",
       "  <thead>\n",
       "    <tr style=\"text-align: right;\">\n",
       "      <th></th>\n",
       "      <th>Columns</th>\n",
       "      <th>Range</th>\n",
       "    </tr>\n",
       "  </thead>\n",
       "  <tbody>\n",
       "    <tr>\n",
       "      <th>0</th>\n",
       "      <td>Participant</td>\n",
       "      <td>[2, 35]</td>\n",
       "    </tr>\n",
       "    <tr>\n",
       "      <th>1</th>\n",
       "      <td>HR</td>\n",
       "      <td>[49.0, 146.78]</td>\n",
       "    </tr>\n",
       "    <tr>\n",
       "      <th>2</th>\n",
       "      <td>respr</td>\n",
       "      <td>[5.204728132, 18.16353247]</td>\n",
       "    </tr>\n",
       "    <tr>\n",
       "      <th>3</th>\n",
       "      <td>Time(sec)</td>\n",
       "      <td>[1644227583, 1646842247]</td>\n",
       "    </tr>\n",
       "    <tr>\n",
       "      <th>4</th>\n",
       "      <td>Label</td>\n",
       "      <td>[0, 1]</td>\n",
       "    </tr>\n",
       "  </tbody>\n",
       "</table>\n",
       "</div>"
      ],
      "text/plain": [
       "       Columns                       Range\n",
       "0  Participant                     [2, 35]\n",
       "1           HR              [49.0, 146.78]\n",
       "2        respr  [5.204728132, 18.16353247]\n",
       "3    Time(sec)    [1644227583, 1646842247]\n",
       "4        Label                      [0, 1]"
      ]
     },
     "execution_count": 6,
     "metadata": {},
     "output_type": "execute_result"
    }
   ],
   "source": [
    "dict={column: [min(df[column]), max(df[column])] for column in list(df.columns)} \n",
    "# Created a dictionary with minimum and maximum element of each row.\n",
    "\n",
    "df_range= pd.DataFrame(dict.items(), columns=['Columns', 'Range'])\n",
    "df_range\n"
   ]
  },
  {
   "cell_type": "code",
   "execution_count": 7,
   "id": "e6c0f962-7ebd-48f6-8103-d9ade5d1e749",
   "metadata": {},
   "outputs": [
    {
     "data": {
      "text/html": [
       "<div>\n",
       "<style scoped>\n",
       "    .dataframe tbody tr th:only-of-type {\n",
       "        vertical-align: middle;\n",
       "    }\n",
       "\n",
       "    .dataframe tbody tr th {\n",
       "        vertical-align: top;\n",
       "    }\n",
       "\n",
       "    .dataframe thead th {\n",
       "        text-align: right;\n",
       "    }\n",
       "</style>\n",
       "<table border=\"1\" class=\"dataframe\">\n",
       "  <thead>\n",
       "    <tr style=\"text-align: right;\">\n",
       "      <th></th>\n",
       "      <th>Participant</th>\n",
       "      <th>HR</th>\n",
       "      <th>respr</th>\n",
       "      <th>Time(sec)</th>\n",
       "      <th>Label</th>\n",
       "    </tr>\n",
       "  </thead>\n",
       "  <tbody>\n",
       "    <tr>\n",
       "      <th>67569</th>\n",
       "      <td>22</td>\n",
       "      <td>74.68</td>\n",
       "      <td>8.454816</td>\n",
       "      <td>1646051708</td>\n",
       "      <td>0</td>\n",
       "    </tr>\n",
       "    <tr>\n",
       "      <th>107791</th>\n",
       "      <td>34</td>\n",
       "      <td>80.62</td>\n",
       "      <td>12.693767</td>\n",
       "      <td>1646838954</td>\n",
       "      <td>0</td>\n",
       "    </tr>\n",
       "    <tr>\n",
       "      <th>106523</th>\n",
       "      <td>34</td>\n",
       "      <td>84.58</td>\n",
       "      <td>12.761950</td>\n",
       "      <td>1646837686</td>\n",
       "      <td>1</td>\n",
       "    </tr>\n",
       "    <tr>\n",
       "      <th>64152</th>\n",
       "      <td>21</td>\n",
       "      <td>69.07</td>\n",
       "      <td>12.438481</td>\n",
       "      <td>1646049423</td>\n",
       "      <td>1</td>\n",
       "    </tr>\n",
       "    <tr>\n",
       "      <th>36861</th>\n",
       "      <td>13</td>\n",
       "      <td>69.62</td>\n",
       "      <td>15.621630</td>\n",
       "      <td>1645443224</td>\n",
       "      <td>0</td>\n",
       "    </tr>\n",
       "    <tr>\n",
       "      <th>...</th>\n",
       "      <td>...</td>\n",
       "      <td>...</td>\n",
       "      <td>...</td>\n",
       "      <td>...</td>\n",
       "      <td>...</td>\n",
       "    </tr>\n",
       "    <tr>\n",
       "      <th>58681</th>\n",
       "      <td>19</td>\n",
       "      <td>70.08</td>\n",
       "      <td>12.030993</td>\n",
       "      <td>1646041818</td>\n",
       "      <td>1</td>\n",
       "    </tr>\n",
       "    <tr>\n",
       "      <th>73034</th>\n",
       "      <td>24</td>\n",
       "      <td>71.47</td>\n",
       "      <td>12.645726</td>\n",
       "      <td>1646059496</td>\n",
       "      <td>0</td>\n",
       "    </tr>\n",
       "    <tr>\n",
       "      <th>2682</th>\n",
       "      <td>2</td>\n",
       "      <td>73.18</td>\n",
       "      <td>12.780532</td>\n",
       "      <td>1644230265</td>\n",
       "      <td>0</td>\n",
       "    </tr>\n",
       "    <tr>\n",
       "      <th>91488</th>\n",
       "      <td>29</td>\n",
       "      <td>73.53</td>\n",
       "      <td>10.125188</td>\n",
       "      <td>1646659166</td>\n",
       "      <td>0</td>\n",
       "    </tr>\n",
       "    <tr>\n",
       "      <th>12034</th>\n",
       "      <td>5</td>\n",
       "      <td>89.15</td>\n",
       "      <td>12.945359</td>\n",
       "      <td>1644831571</td>\n",
       "      <td>1</td>\n",
       "    </tr>\n",
       "  </tbody>\n",
       "</table>\n",
       "<p>112516 rows × 5 columns</p>\n",
       "</div>"
      ],
      "text/plain": [
       "        Participant     HR      respr   Time(sec)  Label\n",
       "67569            22  74.68   8.454816  1646051708      0\n",
       "107791           34  80.62  12.693767  1646838954      0\n",
       "106523           34  84.58  12.761950  1646837686      1\n",
       "64152            21  69.07  12.438481  1646049423      1\n",
       "36861            13  69.62  15.621630  1645443224      0\n",
       "...             ...    ...        ...         ...    ...\n",
       "58681            19  70.08  12.030993  1646041818      1\n",
       "73034            24  71.47  12.645726  1646059496      0\n",
       "2682              2  73.18  12.780532  1644230265      0\n",
       "91488            29  73.53  10.125188  1646659166      0\n",
       "12034             5  89.15  12.945359  1644831571      1\n",
       "\n",
       "[112516 rows x 5 columns]"
      ]
     },
     "execution_count": 7,
     "metadata": {},
     "output_type": "execute_result"
    }
   ],
   "source": [
    "df.sample(frac=1) # shuffling to view various values"
   ]
  },
  {
   "cell_type": "code",
   "execution_count": 8,
   "id": "14466d7f-bedd-460d-8c71-da99620e4a84",
   "metadata": {},
   "outputs": [
    {
     "name": "stdout",
     "output_type": "stream",
     "text": [
      "Frequency of 0s and 1s are : \n",
      "0    75701\n",
      "1    36815\n",
      "Name: Label, dtype: int64\n"
     ]
    },
    {
     "data": {
      "image/png": "[encoded data removed]",
      "text/plain": [
       "<Figure size 640x480 with 1 Axes>"
      ]
     },
     "metadata": {},
     "output_type": "display_data"
    }
   ],
   "source": [
    "print(f'Frequency of 0s and 1s are : \\n{df.Label.value_counts() }')\n",
    "df['Label'].value_counts().plot.bar();\n",
    "\n",
    "# data not imbalanced or mildly imbalanced which can be neglected"
   ]
  },
  {
   "cell_type": "markdown",
   "id": "f405c8db",
   "metadata": {},
   "source": [
    "Checking the data types, as numerical data types are required to compare the features and object datatypes are either removed or transformed according to the importance of the features."
   ]
  },
  {
   "cell_type": "code",
   "execution_count": 9,
   "id": "55e1f6a8-da48-45c9-971b-68403b8211d3",
   "metadata": {},
   "outputs": [
    {
     "data": {
      "text/plain": [
       "Participant      int64\n",
       "HR             float64\n",
       "respr          float64\n",
       "Time(sec)        int64\n",
       "Label            int64\n",
       "dtype: object"
      ]
     },
     "execution_count": 9,
     "metadata": {},
     "output_type": "execute_result"
    }
   ],
   "source": [
    "df.dtypes"
   ]
  },
  {
   "cell_type": "markdown",
   "id": "31199faa",
   "metadata": {},
   "source": [
    "Checking and visualising top 5 null values in each column"
   ]
  },
  {
   "cell_type": "code",
   "execution_count": 10,
   "id": "77f53cfd-3d55-4307-8609-f989426014ab",
   "metadata": {},
   "outputs": [
    {
     "data": {
      "text/plain": [
       "Participant     0\n",
       "HR             44\n",
       "respr           0\n",
       "Time(sec)       0\n",
       "Label           0\n",
       "dtype: int64"
      ]
     },
     "execution_count": 10,
     "metadata": {},
     "output_type": "execute_result"
    }
   ],
   "source": [
    "df.isnull().sum()"
   ]
  },
  {
   "cell_type": "code",
   "execution_count": 11,
   "id": "7a79811e-06f2-4804-9ad9-49ccb077860b",
   "metadata": {},
   "outputs": [
    {
     "data": {
      "text/html": [
       "<div>\n",
       "<style scoped>\n",
       "    .dataframe tbody tr th:only-of-type {\n",
       "        vertical-align: middle;\n",
       "    }\n",
       "\n",
       "    .dataframe tbody tr th {\n",
       "        vertical-align: top;\n",
       "    }\n",
       "\n",
       "    .dataframe thead th {\n",
       "        text-align: right;\n",
       "    }\n",
       "</style>\n",
       "<table border=\"1\" class=\"dataframe\">\n",
       "  <thead>\n",
       "    <tr style=\"text-align: right;\">\n",
       "      <th></th>\n",
       "      <th>Label</th>\n",
       "      <th>HR</th>\n",
       "    </tr>\n",
       "  </thead>\n",
       "  <tbody>\n",
       "    <tr>\n",
       "      <th>3555</th>\n",
       "      <td>0</td>\n",
       "      <td>NaN</td>\n",
       "    </tr>\n",
       "    <tr>\n",
       "      <th>3556</th>\n",
       "      <td>0</td>\n",
       "      <td>NaN</td>\n",
       "    </tr>\n",
       "    <tr>\n",
       "      <th>6865</th>\n",
       "      <td>0</td>\n",
       "      <td>NaN</td>\n",
       "    </tr>\n",
       "    <tr>\n",
       "      <th>10395</th>\n",
       "      <td>0</td>\n",
       "      <td>NaN</td>\n",
       "    </tr>\n",
       "    <tr>\n",
       "      <th>10396</th>\n",
       "      <td>0</td>\n",
       "      <td>NaN</td>\n",
       "    </tr>\n",
       "  </tbody>\n",
       "</table>\n",
       "</div>"
      ],
      "text/plain": [
       "       Label  HR\n",
       "3555       0 NaN\n",
       "3556       0 NaN\n",
       "6865       0 NaN\n",
       "10395      0 NaN\n",
       "10396      0 NaN"
      ]
     },
     "execution_count": 11,
     "metadata": {},
     "output_type": "execute_result"
    }
   ],
   "source": [
    "df[['Label', 'HR']][df['HR'].isnull()].head()"
   ]
  },
  {
   "cell_type": "markdown",
   "id": "4a401960",
   "metadata": {},
   "source": [
    "Dropping the entire row which consists of a null value. Heart rate should not be imputed as different participants have different range of heart rates and imputed value can become an outlier for that participant."
   ]
  },
  {
   "cell_type": "code",
   "execution_count": 12,
   "id": "db1e5624-17e4-44a6-875a-6799bbf3617e",
   "metadata": {},
   "outputs": [],
   "source": [
    "df_cl=df.dropna() "
   ]
  },
  {
   "cell_type": "code",
   "execution_count": 13,
   "id": "77f14d8e-b942-4a9f-b87c-d14e5ebde196",
   "metadata": {},
   "outputs": [
    {
     "data": {
      "text/plain": [
       "Participant    0\n",
       "HR             0\n",
       "respr          0\n",
       "Time(sec)      0\n",
       "Label          0\n",
       "dtype: int64"
      ]
     },
     "execution_count": 13,
     "metadata": {},
     "output_type": "execute_result"
    }
   ],
   "source": [
    "df_cl.isnull().sum() # checking again for null values"
   ]
  },
  {
   "cell_type": "markdown",
   "id": "84abb5cb",
   "metadata": {},
   "source": [
    "## Plotting a bar graph showing the correlation between each feature"
   ]
  },
  {
   "cell_type": "code",
   "execution_count": 14,
   "id": "53fb94c1-aced-4ae7-a649-cda90babec5b",
   "metadata": {},
   "outputs": [
    {
     "data": {
      "text/plain": [
       "<Axes: >"
      ]
     },
     "execution_count": 14,
     "metadata": {},
     "output_type": "execute_result"
    },
    {
     "data": {
      "image/png": "[encoded data removed]",
      "text/plain": [
       "<Figure size 640x480 with 1 Axes>"
      ]
     },
     "metadata": {},
     "output_type": "display_data"
    }
   ],
   "source": [
    "df_cl.corr().plot.bar()"
   ]
  },
  {
   "cell_type": "markdown",
   "id": "692fd94b",
   "metadata": {},
   "source": [
    "## Changing format UNIX to Minutes"
   ]
  },
  {
   "cell_type": "code",
   "execution_count": 15,
   "id": "106722a3",
   "metadata": {},
   "outputs": [],
   "source": [
    "\n",
    "Time=[]\n",
    "Time_s=[]\n",
    "for i in df_cl['Time(sec)']:\n",
    "    Time.append(datetime.utcfromtimestamp(i).strftime('%H%M%S')) # Removing date from the UNIX format.\n",
    "\n",
    "# Using Minutes\n",
    "for i in Time:\n",
    "    Time_s.append(int(i[:2])*60+ int(i[2:4])+ int(i[4:])/60) # Calculating minutes\n",
    "# Converted hours to minutes (hours*60) and seconds to minutes (seconds/60)"
   ]
  },
  {
   "cell_type": "markdown",
   "id": "60d41e0c",
   "metadata": {},
   "source": [
    "## Creating independent variable X and dependent variable y"
   ]
  },
  {
   "cell_type": "code",
   "execution_count": 16,
   "id": "e980f24c-6781-440a-bbc0-f13b0aa8dd4e",
   "metadata": {},
   "outputs": [
    {
     "data": {
      "text/html": [
       "<div>\n",
       "<style scoped>\n",
       "    .dataframe tbody tr th:only-of-type {\n",
       "        vertical-align: middle;\n",
       "    }\n",
       "\n",
       "    .dataframe tbody tr th {\n",
       "        vertical-align: top;\n",
       "    }\n",
       "\n",
       "    .dataframe thead th {\n",
       "        text-align: right;\n",
       "    }\n",
       "</style>\n",
       "<table border=\"1\" class=\"dataframe\">\n",
       "  <thead>\n",
       "    <tr style=\"text-align: right;\">\n",
       "      <th></th>\n",
       "      <th>HR</th>\n",
       "      <th>respr</th>\n",
       "      <th>Minutes</th>\n",
       "    </tr>\n",
       "  </thead>\n",
       "  <tbody>\n",
       "    <tr>\n",
       "      <th>0</th>\n",
       "      <td>2.967592</td>\n",
       "      <td>-0.16628</td>\n",
       "      <td>-1.478119</td>\n",
       "    </tr>\n",
       "    <tr>\n",
       "      <th>1</th>\n",
       "      <td>2.614156</td>\n",
       "      <td>-0.16628</td>\n",
       "      <td>-1.477987</td>\n",
       "    </tr>\n",
       "    <tr>\n",
       "      <th>2</th>\n",
       "      <td>1.004059</td>\n",
       "      <td>-0.16628</td>\n",
       "      <td>-1.477855</td>\n",
       "    </tr>\n",
       "    <tr>\n",
       "      <th>3</th>\n",
       "      <td>1.023694</td>\n",
       "      <td>-0.16628</td>\n",
       "      <td>-1.477723</td>\n",
       "    </tr>\n",
       "    <tr>\n",
       "      <th>4</th>\n",
       "      <td>0.485686</td>\n",
       "      <td>-0.16628</td>\n",
       "      <td>-1.477591</td>\n",
       "    </tr>\n",
       "  </tbody>\n",
       "</table>\n",
       "</div>"
      ],
      "text/plain": [
       "         HR    respr   Minutes\n",
       "0  2.967592 -0.16628 -1.478119\n",
       "1  2.614156 -0.16628 -1.477987\n",
       "2  1.004059 -0.16628 -1.477855\n",
       "3  1.023694 -0.16628 -1.477723\n",
       "4  0.485686 -0.16628 -1.477591"
      ]
     },
     "execution_count": 16,
     "metadata": {},
     "output_type": "execute_result"
    }
   ],
   "source": [
    "X=df_cl.drop(['Label'],axis=1).drop(['Time(sec)'], axis=1).drop(['Participant'], axis=1)\n",
    "y=df_cl['Label']\n",
    "\n",
    "#UNIX time sec to timestamp\n",
    "X['Minutes'] = Time_s\n",
    "\n",
    "#Feature scaling using Standard Scaler\n",
    "\n",
    "#feature scaling\n",
    "scaler= StandardScaler()\n",
    "df_scaled= scaler.fit_transform(X)\n",
    "X = pd.DataFrame(df_scaled,columns=X.columns)\n",
    "\n",
    "X.head()"
   ]
  },
  {
   "cell_type": "markdown",
   "id": "eeb85daf",
   "metadata": {},
   "source": [
    "Feature scaling using Standard Scaler"
   ]
  },
  {
   "cell_type": "code",
   "execution_count": 17,
   "id": "f2b118b9",
   "metadata": {},
   "outputs": [
    {
     "data": {
      "text/html": [
       "<div>\n",
       "<style scoped>\n",
       "    .dataframe tbody tr th:only-of-type {\n",
       "        vertical-align: middle;\n",
       "    }\n",
       "\n",
       "    .dataframe tbody tr th {\n",
       "        vertical-align: top;\n",
       "    }\n",
       "\n",
       "    .dataframe thead th {\n",
       "        text-align: right;\n",
       "    }\n",
       "</style>\n",
       "<table border=\"1\" class=\"dataframe\">\n",
       "  <thead>\n",
       "    <tr style=\"text-align: right;\">\n",
       "      <th></th>\n",
       "      <th>HR</th>\n",
       "      <th>respr</th>\n",
       "      <th>Minutes</th>\n",
       "    </tr>\n",
       "  </thead>\n",
       "  <tbody>\n",
       "    <tr>\n",
       "      <th>0</th>\n",
       "      <td>2.967592</td>\n",
       "      <td>-0.16628</td>\n",
       "      <td>-1.478119</td>\n",
       "    </tr>\n",
       "    <tr>\n",
       "      <th>1</th>\n",
       "      <td>2.614156</td>\n",
       "      <td>-0.16628</td>\n",
       "      <td>-1.477987</td>\n",
       "    </tr>\n",
       "    <tr>\n",
       "      <th>2</th>\n",
       "      <td>1.004059</td>\n",
       "      <td>-0.16628</td>\n",
       "      <td>-1.477855</td>\n",
       "    </tr>\n",
       "    <tr>\n",
       "      <th>3</th>\n",
       "      <td>1.023694</td>\n",
       "      <td>-0.16628</td>\n",
       "      <td>-1.477723</td>\n",
       "    </tr>\n",
       "    <tr>\n",
       "      <th>4</th>\n",
       "      <td>0.485686</td>\n",
       "      <td>-0.16628</td>\n",
       "      <td>-1.477591</td>\n",
       "    </tr>\n",
       "  </tbody>\n",
       "</table>\n",
       "</div>"
      ],
      "text/plain": [
       "         HR    respr   Minutes\n",
       "0  2.967592 -0.16628 -1.478119\n",
       "1  2.614156 -0.16628 -1.477987\n",
       "2  1.004059 -0.16628 -1.477855\n",
       "3  1.023694 -0.16628 -1.477723\n",
       "4  0.485686 -0.16628 -1.477591"
      ]
     },
     "execution_count": 17,
     "metadata": {},
     "output_type": "execute_result"
    }
   ],
   "source": [
    "#feature scaling\n",
    "scaler= StandardScaler()\n",
    "df_scaled= scaler.fit_transform(X) # Fitting and transforming the Dataset into standard scaler\n",
    "X = pd.DataFrame(df_scaled,columns=X.columns) # Coverting the output of scaling back to pandas dataframe.\n",
    "\n",
    "X.head()"
   ]
  },
  {
   "cell_type": "code",
   "execution_count": 18,
   "id": "40e56ed6-f8e5-4318-aa13-1bf929092ac9",
   "metadata": {},
   "outputs": [
    {
     "data": {
      "text/plain": [
       "<Axes: >"
      ]
     },
     "execution_count": 18,
     "metadata": {},
     "output_type": "execute_result"
    },
    {
     "data": {
      "image/png": "[encoded data removed]",
      "text/plain": [
       "<Figure size 640x480 with 1 Axes>"
      ]
     },
     "metadata": {},
     "output_type": "display_data"
    }
   ],
   "source": [
    "X.corr().plot.bar() # Correlation between independent variables."
   ]
  },
  {
   "cell_type": "markdown",
   "id": "65b9a3ed",
   "metadata": {},
   "source": [
    "# --Assignment 2 --"
   ]
  },
  {
   "cell_type": "markdown",
   "id": "bc335ca6",
   "metadata": {},
   "source": [
    "## Splitting the data between train and test"
   ]
  },
  {
   "cell_type": "code",
   "execution_count": 19,
   "id": "48e8b84e-0d01-48f9-b85c-084e7e3defad",
   "metadata": {},
   "outputs": [],
   "source": [
    "# First: Spilitting test data and train data.\n",
    "train_X,test_X,train_y,test_y= train_test_split(X,y, test_size=0.1, stratify=y)"
   ]
  },
  {
   "cell_type": "code",
   "execution_count": 20,
   "id": "2bfd2303",
   "metadata": {},
   "outputs": [
    {
     "data": {
      "text/plain": [
       "0    68091\n",
       "1    33133\n",
       "Name: Label, dtype: int64"
      ]
     },
     "execution_count": 20,
     "metadata": {},
     "output_type": "execute_result"
    }
   ],
   "source": [
    "train_y.value_counts()"
   ]
  },
  {
   "cell_type": "code",
   "execution_count": 21,
   "id": "7dc0cc8b",
   "metadata": {},
   "outputs": [
    {
     "data": {
      "text/plain": [
       "0    7566\n",
       "1    3682\n",
       "Name: Label, dtype: int64"
      ]
     },
     "execution_count": 21,
     "metadata": {},
     "output_type": "execute_result"
    }
   ],
   "source": [
    "test_y.value_counts()"
   ]
  },
  {
   "cell_type": "markdown",
   "id": "9c6b0b66",
   "metadata": {},
   "source": [
    "## Splitting the training data between train and validation"
   ]
  },
  {
   "cell_type": "code",
   "execution_count": 22,
   "id": "5c133af9",
   "metadata": {},
   "outputs": [],
   "source": [
    "training_X, val_X, training_y, val_y= train_test_split(train_X, train_y, stratify=train_y, test_size=0.1)"
   ]
  },
  {
   "cell_type": "code",
   "execution_count": 23,
   "id": "c7529a51",
   "metadata": {},
   "outputs": [
    {
     "data": {
      "text/plain": [
       "0    61281\n",
       "1    29820\n",
       "Name: Label, dtype: int64"
      ]
     },
     "execution_count": 23,
     "metadata": {},
     "output_type": "execute_result"
    }
   ],
   "source": [
    "training_y.value_counts()"
   ]
  },
  {
   "cell_type": "code",
   "execution_count": 24,
   "id": "3ecb1f99",
   "metadata": {},
   "outputs": [
    {
     "data": {
      "text/plain": [
       "0    6810\n",
       "1    3313\n",
       "Name: Label, dtype: int64"
      ]
     },
     "execution_count": 24,
     "metadata": {},
     "output_type": "execute_result"
    }
   ],
   "source": [
    "val_y.value_counts()"
   ]
  },
  {
   "cell_type": "markdown",
   "id": "6bd5a2d7",
   "metadata": {},
   "source": [
    "### Fitting and training Decision tree on training and validation set"
   ]
  },
  {
   "cell_type": "code",
   "execution_count": 25,
   "id": "7d936a30",
   "metadata": {},
   "outputs": [
    {
     "name": "stdout",
     "output_type": "stream",
     "text": [
      "Decision Tree\n",
      "Training score: 96.58%\n",
      "Accuracy: 95.62%\n",
      "Classification Report:\n",
      "               precision    recall  f1-score   support\n",
      "\n",
      "           0       0.99      0.95      0.97      7097\n",
      "           1       0.89      0.97      0.93      3026\n",
      "\n",
      "    accuracy                           0.96     10123\n",
      "   macro avg       0.94      0.96      0.95     10123\n",
      "weighted avg       0.96      0.96      0.96     10123\n",
      "\n"
     ]
    }
   ],
   "source": [
    "dt=DecisionTreeClassifier(max_depth=25) # Creating instance\n",
    "dt.fit(training_X, training_y) # Fitting Training data\n",
    "y_pred_dt = dt.predict(val_X) # Predicting values of validation data.\n",
    "print(\"Decision Tree\")\n",
    "print(f\"Training score: {dt.score(train_X, train_y)*100 :.2f}%\")\n",
    "print(f\"Accuracy: {accuracy_score(y_pred_dt, val_y)*100 :.2f}%\")\n",
    "print(f\"Classification Report:\\n {classification_report(y_pred_dt, val_y)}\")"
   ]
  },
  {
   "cell_type": "markdown",
   "id": "10a8a439",
   "metadata": {},
   "source": [
    "### Fitting and training Random Forest on training and validation set"
   ]
  },
  {
   "cell_type": "code",
   "execution_count": 26,
   "id": "632aec81",
   "metadata": {},
   "outputs": [
    {
     "name": "stdout",
     "output_type": "stream",
     "text": [
      "Random Forest\n",
      "Training score: 99.76\n",
      "Accuracy: 98.06\n",
      "Classification Report:\n",
      "               precision    recall  f1-score   support\n",
      "\n",
      "           0       0.99      0.98      0.99      6920\n",
      "           1       0.95      0.99      0.97      3203\n",
      "\n",
      "    accuracy                           0.98     10123\n",
      "   macro avg       0.97      0.98      0.98     10123\n",
      "weighted avg       0.98      0.98      0.98     10123\n",
      "\n"
     ]
    }
   ],
   "source": [
    "rf=RandomForestClassifier(max_depth=25) # Creating instance\n",
    "rf.fit(training_X,training_y) # Fitting Training data\n",
    "y_pred_rf = rf.predict(val_X) # Predicting values of validation data.\n",
    "print(\"Random Forest\")\n",
    "print(f\"Training score: {rf.score(train_X, train_y)*100 :.2f}\")\n",
    "print(f\"Accuracy: {accuracy_score(y_pred_rf, val_y)*100 :.2f}\")\n",
    "print(f\"Classification Report:\\n {classification_report(y_pred_rf, val_y)}\")"
   ]
  },
  {
   "cell_type": "markdown",
   "id": "b3468c52",
   "metadata": {},
   "source": [
    "### ROC curves and AUC ROC value"
   ]
  },
  {
   "cell_type": "code",
   "execution_count": 27,
   "id": "63ac75e1",
   "metadata": {},
   "outputs": [
    {
     "data": {
      "image/png": "[encoded data removed]",
      "text/plain": [
       "<Figure size 640x480 with 1 Axes>"
      ]
     },
     "metadata": {},
     "output_type": "display_data"
    }
   ],
   "source": [
    "# Decision Tree\n",
    "fpr, tpr, thresholds = roc_curve(val_y, y_pred_dt) # True positive and false positive using ROC\n",
    "roc_auc_dt = auc(fpr, tpr) # Calculate the AUC (Area Under the Curve) of the ROC curve\n",
    "plt.plot(fpr, tpr, lw=3, label=f' DT (AUC = {roc_auc_dt:.3f})', color='red') # Plot the red color ROC curve \n",
    "\n",
    "# Random Forest\n",
    "fpr, tpr, thresholds = roc_curve(val_y, y_pred_rf) # True positive and false positive using ROC\n",
    "roc_auc_rf = auc(fpr, tpr) # Calculate the AUC (Area Under the Curve) of the ROC curve\n",
    "plt.plot(fpr, tpr, lw=3, label=f' RF (AUC = {roc_auc_rf:.3f})') # Plot the ROC curve\n",
    "\n",
    "plt.plot([0, 1], [0, 1], color='navy', lw=2, linestyle='--')\n",
    "plt.xlabel('False Positive Rate')\n",
    "plt.ylabel('True Positive Rate')\n",
    "plt.title('Receiver Operating Characteristic (ROC) Curves')\n",
    "plt.legend(loc='lower right')   ;"
   ]
  },
  {
   "cell_type": "markdown",
   "id": "08f3ba3f",
   "metadata": {},
   "source": [
    "### Confusion matrix for both classifiers"
   ]
  },
  {
   "cell_type": "code",
   "execution_count": 28,
   "id": "ba7919ed",
   "metadata": {},
   "outputs": [
    {
     "data": {
      "image/png": "[encoded data removed]",
      "text/plain": [
       "<Figure size 640x480 with 2 Axes>"
      ]
     },
     "metadata": {},
     "output_type": "display_data"
    },
    {
     "data": {
      "image/png": "[encoded data removed]",
      "text/plain": [
       "<Figure size 640x480 with 2 Axes>"
      ]
     },
     "metadata": {},
     "output_type": "display_data"
    }
   ],
   "source": [
    "cm_dt=confusion_matrix(y_pred_dt, val_y) # Confusion Matrix for decision tree\n",
    "disp_dt = ConfusionMatrixDisplay(confusion_matrix=cm_dt, display_labels = dt.classes_)\n",
    "disp_dt.plot()\n",
    "plt.title(\"Decision Tree\")\n",
    "\n",
    "cm_rf=confusion_matrix(y_pred_rf, val_y) # Confusion Matrix for Random Forest\n",
    "disp_rf = ConfusionMatrixDisplay(confusion_matrix=cm_rf, display_labels = rf.classes_)\n",
    "disp_rf.plot()\n",
    "plt.title(\"Random Forest\");"
   ]
  },
  {
   "cell_type": "markdown",
   "id": "0cedcf71",
   "metadata": {},
   "source": [
    "### Splitting the train data into training and validation set 5 times.\n",
    "### Storing accuracies of both classifiers on each set of data in the lists."
   ]
  },
  {
   "cell_type": "code",
   "execution_count": 29,
   "id": "2952949f",
   "metadata": {},
   "outputs": [],
   "source": [
    "decision_tree_accuracy=[] # Empty list to store accuracy of decision tree\n",
    "random_forest_accuracy=[] # Empty list to store accuracy of random forest\n",
    "\n",
    "# Splitting Train data into training and validation data 5 times.\n",
    "\n",
    "for i in range(5): # Loop for 5 ierations\n",
    "    \n",
    "    # Splitting with validation data as 10%\n",
    "    training_X, val_X, training_y, val_y= train_test_split(train_X, train_y, test_size=0.1)\n",
    "    \n",
    "    # Decision Tree\n",
    "    dt.fit(training_X, training_y) # Fitting Training data\n",
    "    y_pred_dt = dt.predict(val_X) # Predicting values of validation data.\n",
    "    decision_tree_accuracy.append(accuracy_score( y_pred_dt, val_y)*100) # Appending accuracy score in a list.\n",
    "    \n",
    "    # Random Forest\n",
    "    rf.fit(training_X,training_y) # Fitting Training data\n",
    "    y_pred_rf = rf.predict(val_X) # Predicting values of validation data.\n",
    "    random_forest_accuracy.append(accuracy_score(y_pred_rf, val_y)*100) # Appending accuracy score in a list.\n",
    "    "
   ]
  },
  {
   "cell_type": "code",
   "execution_count": 30,
   "id": "746f6fe2",
   "metadata": {},
   "outputs": [
    {
     "name": "stdout",
     "output_type": "stream",
     "text": [
      " Decision Tree Accuracies:\n",
      " [96.47337745727552, 97.40195594191445, 95.3867430603576, 96.71046132569397, 95.93006025881655]\n",
      " Random Forest Accuracies:\n",
      " [98.26138496493134, 97.94527314037342, 97.93539464585596, 97.94527314037342, 98.03417959103032]\n"
     ]
    }
   ],
   "source": [
    "print(f\" Decision Tree Accuracies:\\n {decision_tree_accuracy}\") # Viewing the list of accuracies of Decision tree\n",
    "\n",
    "print(f\" Random Forest Accuracies:\\n {random_forest_accuracy}\") # Viewing the list of accuracies of Random forest"
   ]
  },
  {
   "cell_type": "code",
   "execution_count": 31,
   "id": "0c10a109",
   "metadata": {},
   "outputs": [
    {
     "name": "stdout",
     "output_type": "stream",
     "text": [
      "Mean Accuracy of Decision Tree: 96.381%\n",
      "Mean Accuracy of Random Forest: 98.024%\n"
     ]
    }
   ],
   "source": [
    "print(f\"Mean Accuracy of Decision Tree: {np.mean(decision_tree_accuracy) :.3f}%\") \n",
    "\n",
    "print(f\"Mean Accuracy of Random Forest: {np.mean(random_forest_accuracy) :.3f}%\")  "
   ]
  },
  {
   "cell_type": "markdown",
   "id": "4ffa03ff",
   "metadata": {},
   "source": [
    "## Paired T-Test\n",
    "\n",
    "* We are comparing two classifiers (Decision Tree and Random Forest) on same dataset."
   ]
  },
  {
   "cell_type": "code",
   "execution_count": 32,
   "id": "ed0376b6",
   "metadata": {},
   "outputs": [],
   "source": [
    "alpha=0.05 # Significance value\n",
    "\n",
    "# using stats.ttest_rel to return p-value and t-statistic\n",
    "t_stat, p_value = stats.ttest_rel(decision_tree_accuracy, random_forest_accuracy) "
   ]
  },
  {
   "cell_type": "code",
   "execution_count": 33,
   "id": "44aadd27",
   "metadata": {},
   "outputs": [
    {
     "name": "stdout",
     "output_type": "stream",
     "text": [
      "T-statistics value: -4.7160198344892565\n"
     ]
    }
   ],
   "source": [
    "print(f\"T-statistics value: {t_stat}\")"
   ]
  },
  {
   "cell_type": "code",
   "execution_count": 34,
   "id": "c8ad1bc5",
   "metadata": {},
   "outputs": [
    {
     "name": "stdout",
     "output_type": "stream",
     "text": [
      "P-value: 0.009198616423379881\n"
     ]
    }
   ],
   "source": [
    "print(f\"P-value: {p_value}\") # Viewing p-value"
   ]
  },
  {
   "cell_type": "code",
   "execution_count": 35,
   "id": "fda680f1",
   "metadata": {},
   "outputs": [
    {
     "name": "stdout",
     "output_type": "stream",
     "text": [
      "As p_value < alpha, we reject null hypothesis.\n",
      "Hence, there is a SIGNIFICANT DIFFERENCE\n",
      "Random Forest is better than Decision Tree\n"
     ]
    }
   ],
   "source": [
    "#Comparing p-value with significance value alpha\n",
    "\n",
    "if p_value<alpha: # p-value less than alpha --> Significant difference is there\n",
    "    print(\"As p_value < alpha, we reject null hypothesis.\\nHence, there is a SIGNIFICANT DIFFERENCE\")\n",
    "    \n",
    "    if np.mean(decision_tree_accuracy)>np.mean(random_forest_accuracy): # Comparing the mean to know which is better\n",
    "        print(\"Decision Tree is better than Random Forest\") # Higher the average accuracy, better the classifier.\n",
    "    else:\n",
    "        print(\"Random Forest is better than Decision Tree\")\n",
    "        \n",
    "else:\n",
    "    print(\"No significant difference\") # p-value more than significance value alpha --> No significance difference"
   ]
  },
  {
   "cell_type": "markdown",
   "id": "c5e281a2",
   "metadata": {},
   "source": [
    "## Stratified K-Fold (10) cross validation"
   ]
  },
  {
   "cell_type": "code",
   "execution_count": 36,
   "id": "6ca50f23",
   "metadata": {},
   "outputs": [],
   "source": [
    "skf = StratifiedKFold (n_splits=10, shuffle=False, random_state=None) # Stratified K fold classifier"
   ]
  },
  {
   "cell_type": "code",
   "execution_count": 37,
   "id": "1c413a0c",
   "metadata": {},
   "outputs": [],
   "source": [
    "# Using cross val score to evaluate models with Stratified K-fold (K=10) division of train dataset\n",
    "cross_val_score_dt = cross_val_score(dt, train_X, train_y, cv= skf, scoring = \"accuracy\")\n",
    "cross_val_score_rf = cross_val_score(rf, train_X, train_y, cv= skf, scoring = \"accuracy\")"
   ]
  },
  {
   "cell_type": "code",
   "execution_count": 38,
   "id": "01c959d5",
   "metadata": {},
   "outputs": [
    {
     "name": "stdout",
     "output_type": "stream",
     "text": [
      "Cross-validation mean_accuracy of Decision Tree: 96.05%\n",
      "Cross-validation mean_accuracy of Random Forest: 98.12%\n"
     ]
    }
   ],
   "source": [
    "# Viewing mean of accuracies of each fold for both the models \n",
    "print(f\"Cross-validation mean_accuracy of Decision Tree: { cross_val_score_dt.mean()*100 :.2f}%\")\n",
    "print(f\"Cross-validation mean_accuracy of Random Forest: { cross_val_score_rf.mean()*100 :.2f}%\")"
   ]
  },
  {
   "cell_type": "code",
   "execution_count": 39,
   "id": "d0d8d69a",
   "metadata": {},
   "outputs": [
    {
     "name": "stdout",
     "output_type": "stream",
     "text": [
      "Cross-validation standard deviation of Decision Tree: 0.005673711028728449\n",
      "Cross-validation standard deviation of Random Forest: 0.0011375306032599202\n"
     ]
    }
   ],
   "source": [
    "# Viewing standard deviation of accuracies for both the models \n",
    "print(f\"Cross-validation standard deviation of Decision Tree: { cross_val_score_dt.std()}\")\n",
    "print(f\"Cross-validation standard deviation of Random Forest: { cross_val_score_rf.std()}\")"
   ]
  },
  {
   "cell_type": "markdown",
   "id": "ad45c79a",
   "metadata": {},
   "source": [
    "## Random Forest is better"
   ]
  },
  {
   "cell_type": "code",
   "execution_count": 40,
   "id": "7f0b4c4a",
   "metadata": {},
   "outputs": [],
   "source": [
    "random_forest_classifier = RandomForestClassifier(n_estimators = 25, max_depth = 25) #Creating random forest classifier"
   ]
  },
  {
   "cell_type": "code",
   "execution_count": 41,
   "id": "14de459d",
   "metadata": {},
   "outputs": [
    {
     "data": {
      "text/html": [
       "<style>#sk-container-id-1 {color: black;}#sk-container-id-1 pre{padding: 0;}#sk-container-id-1 div.sk-toggleable {background-color: white;}#sk-container-id-1 label.sk-toggleable__label {cursor: pointer;display: block;width: 100%;margin-bottom: 0;padding: 0.3em;box-sizing: border-box;text-align: center;}#sk-container-id-1 label.sk-toggleable__label-arrow:before {content: \"▸\";float: left;margin-right: 0.25em;color: #696969;}#sk-container-id-1 label.sk-toggleable__label-arrow:hover:before {color: black;}#sk-container-id-1 div.sk-estimator:hover label.sk-toggleable__label-arrow:before {color: black;}#sk-container-id-1 div.sk-toggleable__content {max-height: 0;max-width: 0;overflow: hidden;text-align: left;background-color: #f0f8ff;}#sk-container-id-1 div.sk-toggleable__content pre {margin: 0.2em;color: black;border-radius: 0.25em;background-color: #f0f8ff;}#sk-container-id-1 input.sk-toggleable__control:checked~div.sk-toggleable__content {max-height: 200px;max-width: 100%;overflow: auto;}#sk-container-id-1 input.sk-toggleable__control:checked~label.sk-toggleable__label-arrow:before {content: \"▾\";}#sk-container-id-1 div.sk-estimator input.sk-toggleable__control:checked~label.sk-toggleable__label {background-color: #d4ebff;}#sk-container-id-1 div.sk-label input.sk-toggleable__control:checked~label.sk-toggleable__label {background-color: #d4ebff;}#sk-container-id-1 input.sk-hidden--visually {border: 0;clip: rect(1px 1px 1px 1px);clip: rect(1px, 1px, 1px, 1px);height: 1px;margin: -1px;overflow: hidden;padding: 0;position: absolute;width: 1px;}#sk-container-id-1 div.sk-estimator {font-family: monospace;background-color: #f0f8ff;border: 1px dotted black;border-radius: 0.25em;box-sizing: border-box;margin-bottom: 0.5em;}#sk-container-id-1 div.sk-estimator:hover {background-color: #d4ebff;}#sk-container-id-1 div.sk-parallel-item::after {content: \"\";width: 100%;border-bottom: 1px solid gray;flex-grow: 1;}#sk-container-id-1 div.sk-label:hover label.sk-toggleable__label {background-color: #d4ebff;}#sk-container-id-1 div.sk-serial::before {content: \"\";position: absolute;border-left: 1px solid gray;box-sizing: border-box;top: 0;bottom: 0;left: 50%;z-index: 0;}#sk-container-id-1 div.sk-serial {display: flex;flex-direction: column;align-items: center;background-color: white;padding-right: 0.2em;padding-left: 0.2em;position: relative;}#sk-container-id-1 div.sk-item {position: relative;z-index: 1;}#sk-container-id-1 div.sk-parallel {display: flex;align-items: stretch;justify-content: center;background-color: white;position: relative;}#sk-container-id-1 div.sk-item::before, #sk-container-id-1 div.sk-parallel-item::before {content: \"\";position: absolute;border-left: 1px solid gray;box-sizing: border-box;top: 0;bottom: 0;left: 50%;z-index: -1;}#sk-container-id-1 div.sk-parallel-item {display: flex;flex-direction: column;z-index: 1;position: relative;background-color: white;}#sk-container-id-1 div.sk-parallel-item:first-child::after {align-self: flex-end;width: 50%;}#sk-container-id-1 div.sk-parallel-item:last-child::after {align-self: flex-start;width: 50%;}#sk-container-id-1 div.sk-parallel-item:only-child::after {width: 0;}#sk-container-id-1 div.sk-dashed-wrapped {border: 1px dashed gray;margin: 0 0.4em 0.5em 0.4em;box-sizing: border-box;padding-bottom: 0.4em;background-color: white;}#sk-container-id-1 div.sk-label label {font-family: monospace;font-weight: bold;display: inline-block;line-height: 1.2em;}#sk-container-id-1 div.sk-label-container {text-align: center;}#sk-container-id-1 div.sk-container {/* jupyter's `normalize.less` sets `[hidden] { display: none; }` but bootstrap.min.css set `[hidden] { display: none !important; }` so we also need the `!important` here to be able to override the default hidden behavior on the sphinx rendered scikit-learn.org. See: https://github.com/scikit-learn/scikit-learn/issues/21755 */display: inline-block !important;position: relative;}#sk-container-id-1 div.sk-text-repr-fallback {display: none;}</style><div id=\"sk-container-id-1\" class=\"sk-top-container\"><div class=\"sk-text-repr-fallback\"><pre>RandomForestClassifier(max_depth=25, n_estimators=25)</pre><b>In a Jupyter environment, please rerun this cell to show the HTML representation or trust the notebook. <br />On GitHub, the HTML representation is unable to render, please try loading this page with nbviewer.org.</b></div><div class=\"sk-container\" hidden><div class=\"sk-item\"><div class=\"sk-estimator sk-toggleable\"><input class=\"sk-toggleable__control sk-hidden--visually\" id=\"sk-estimator-id-1\" type=\"checkbox\" checked><label for=\"sk-estimator-id-1\" class=\"sk-toggleable__label sk-toggleable__label-arrow\">RandomForestClassifier</label><div class=\"sk-toggleable__content\"><pre>RandomForestClassifier(max_depth=25, n_estimators=25)</pre></div></div></div></div></div>"
      ],
      "text/plain": [
       "RandomForestClassifier(max_depth=25, n_estimators=25)"
      ]
     },
     "execution_count": 41,
     "metadata": {},
     "output_type": "execute_result"
    }
   ],
   "source": [
    "random_forest_classifier.fit(train_X, train_y) # Fitting onto train dataset"
   ]
  },
  {
   "cell_type": "code",
   "execution_count": 42,
   "id": "a6c3c53d",
   "metadata": {},
   "outputs": [],
   "source": [
    "prediction_y = random_forest_classifier.predict(test_X) # Predicted on unseen data (Test data) "
   ]
  },
  {
   "cell_type": "code",
   "execution_count": 43,
   "id": "a912ae35",
   "metadata": {},
   "outputs": [
    {
     "name": "stdout",
     "output_type": "stream",
     "text": [
      "Training Score: 99.92%\n",
      "Accuracy of Random Forest: 97.66 %\n",
      "AUC ROC of Random Forest: 97.78 %\n",
      "\n",
      "Classification Report:\n",
      "               precision    recall  f1-score   support\n",
      "\n",
      "           0       0.99      0.97      0.98      7693\n",
      "           1       0.95      0.98      0.96      3555\n",
      "\n",
      "    accuracy                           0.98     11248\n",
      "   macro avg       0.97      0.98      0.97     11248\n",
      "weighted avg       0.98      0.98      0.98     11248\n",
      "\n"
     ]
    }
   ],
   "source": [
    "fpr, tpr, thresholds = roc_curve(prediction_y, test_y) # True positive and false positive using ROC\n",
    "roc_auc_rf = auc(fpr, tpr) # Calculate the AUC (Area Under the Curve) of the ROC curve\n",
    "\n",
    "print(f\"Training Score: {random_forest_classifier.score(train_X, train_y)*100 :.2f}%\") # Training score\n",
    "print(f\"Accuracy of Random Forest: {accuracy_score(prediction_y, test_y)*100 :.2f} %\") # Accuracy\n",
    "print(f\"AUC ROC of Random Forest: {roc_auc_rf*100 :.2f} %\\n\") # AUROC \n",
    "print(f\"Classification Report:\\n {classification_report(prediction_y, test_y)}\") # Classification Report"
   ]
  },
  {
   "cell_type": "code",
   "execution_count": 44,
   "id": "26f9201d",
   "metadata": {},
   "outputs": [
    {
     "data": {
      "image/png": "[encoded data removed]",
      "text/plain": [
       "<Figure size 640x480 with 1 Axes>"
      ]
     },
     "metadata": {},
     "output_type": "display_data"
    }
   ],
   "source": [
    "# ROC curve plot\n",
    "display = RocCurveDisplay(fpr=fpr, tpr=tpr, roc_auc=roc_auc_rf, estimator_name='Random Forest') \n",
    "display.plot(lw=2, color='red')\n",
    "plt.title(\"ROC curve for Random Forest\"); "
   ]
  },
  {
   "cell_type": "code",
   "execution_count": 45,
   "id": "5e44b2bc",
   "metadata": {},
   "outputs": [
    {
     "data": {
      "image/png": "[encoded data removed]",
      "text/plain": [
       "<Figure size 640x480 with 2 Axes>"
      ]
     },
     "metadata": {},
     "output_type": "display_data"
    }
   ],
   "source": [
    "# Confusion Matrix\n",
    "cm_rf = confusion_matrix( prediction_y, test_y ) # Confusion Matrix for Random Forest\n",
    "disp_rf = ConfusionMatrixDisplay(confusion_matrix=cm_rf, display_labels = random_forest_classifier.classes_)\n",
    "disp_rf.plot()\n",
    "plt.title(\"Confusion Matrix for Random Forest\");"
   ]
  }
 ],
 "metadata": {
  "kernelspec": {
   "display_name": "Python 3 (ipykernel)",
   "language": "python",
   "name": "python3"
  },
  "language_info": {
   "codemirror_mode": {
    "name": "ipython",
    "version": 3
   },
   "file_extension": ".py",
   "mimetype": "text/x-python",
   "name": "python",
   "nbconvert_exporter": "python",
   "pygments_lexer": "ipython3",
   "version": "3.11.4"
  }
 },
 "nbformat": 4,
 "nbformat_minor": 5
}
