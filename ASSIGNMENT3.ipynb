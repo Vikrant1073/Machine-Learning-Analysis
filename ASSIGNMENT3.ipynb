{
 "cells": [
  {
   "cell_type": "code",
   "execution_count": 1583,
   "id": "6fa03905",
   "metadata": {},
   "outputs": [],
   "source": [
    "import pandas as pd\n",
    "import numpy as np\n",
    "import matplotlib.pyplot as plt\n",
    "from sklearn.preprocessing import MinMaxScaler\n",
    "from sklearn.preprocessing import PolynomialFeatures\n",
    "from sklearn.linear_model import SGDRegressor\n",
    "from sklearn.model_selection import KFold\n",
    "from sklearn.metrics import mean_squared_error"
   ]
  },
  {
   "cell_type": "code",
   "execution_count": 1584,
   "id": "aca6a085",
   "metadata": {},
   "outputs": [],
   "source": [
    "df=pd.read_csv(\"train.csv\")"
   ]
  },
  {
   "cell_type": "code",
   "execution_count": 1585,
   "id": "7172741d",
   "metadata": {},
   "outputs": [
    {
     "data": {
      "text/html": [
       "<div>\n",
       "<style scoped>\n",
       "    .dataframe tbody tr th:only-of-type {\n",
       "        vertical-align: middle;\n",
       "    }\n",
       "\n",
       "    .dataframe tbody tr th {\n",
       "        vertical-align: top;\n",
       "    }\n",
       "\n",
       "    .dataframe thead th {\n",
       "        text-align: right;\n",
       "    }\n",
       "</style>\n",
       "<table border=\"1\" class=\"dataframe\">\n",
       "  <thead>\n",
       "    <tr style=\"text-align: right;\">\n",
       "      <th></th>\n",
       "      <th>age</th>\n",
       "      <th>sex</th>\n",
       "      <th>bmi</th>\n",
       "      <th>children</th>\n",
       "      <th>smoker</th>\n",
       "      <th>region</th>\n",
       "      <th>charges</th>\n",
       "    </tr>\n",
       "  </thead>\n",
       "  <tbody>\n",
       "    <tr>\n",
       "      <th>0</th>\n",
       "      <td>19</td>\n",
       "      <td>female</td>\n",
       "      <td>27.900</td>\n",
       "      <td>0</td>\n",
       "      <td>yes</td>\n",
       "      <td>southwest</td>\n",
       "      <td>16884.92400</td>\n",
       "    </tr>\n",
       "    <tr>\n",
       "      <th>1</th>\n",
       "      <td>18</td>\n",
       "      <td>male</td>\n",
       "      <td>33.770</td>\n",
       "      <td>1</td>\n",
       "      <td>no</td>\n",
       "      <td>southeast</td>\n",
       "      <td>1725.55230</td>\n",
       "    </tr>\n",
       "    <tr>\n",
       "      <th>2</th>\n",
       "      <td>28</td>\n",
       "      <td>male</td>\n",
       "      <td>33.000</td>\n",
       "      <td>3</td>\n",
       "      <td>no</td>\n",
       "      <td>southeast</td>\n",
       "      <td>4449.46200</td>\n",
       "    </tr>\n",
       "    <tr>\n",
       "      <th>3</th>\n",
       "      <td>33</td>\n",
       "      <td>male</td>\n",
       "      <td>22.705</td>\n",
       "      <td>0</td>\n",
       "      <td>no</td>\n",
       "      <td>northwest</td>\n",
       "      <td>21984.47061</td>\n",
       "    </tr>\n",
       "    <tr>\n",
       "      <th>4</th>\n",
       "      <td>32</td>\n",
       "      <td>male</td>\n",
       "      <td>28.880</td>\n",
       "      <td>0</td>\n",
       "      <td>no</td>\n",
       "      <td>northwest</td>\n",
       "      <td>3866.85520</td>\n",
       "    </tr>\n",
       "  </tbody>\n",
       "</table>\n",
       "</div>"
      ],
      "text/plain": [
       "   age     sex     bmi  children smoker     region      charges\n",
       "0   19  female  27.900         0    yes  southwest  16884.92400\n",
       "1   18    male  33.770         1     no  southeast   1725.55230\n",
       "2   28    male  33.000         3     no  southeast   4449.46200\n",
       "3   33    male  22.705         0     no  northwest  21984.47061\n",
       "4   32    male  28.880         0     no  northwest   3866.85520"
      ]
     },
     "execution_count": 1585,
     "metadata": {},
     "output_type": "execute_result"
    }
   ],
   "source": [
    "df.head()"
   ]
  },
  {
   "cell_type": "code",
   "execution_count": 1586,
   "id": "ee87291d",
   "metadata": {},
   "outputs": [
    {
     "data": {
      "text/plain": [
       "(1238, 7)"
      ]
     },
     "execution_count": 1586,
     "metadata": {},
     "output_type": "execute_result"
    }
   ],
   "source": [
    "df.shape"
   ]
  },
  {
   "cell_type": "code",
   "execution_count": 1587,
   "id": "6b9517ce",
   "metadata": {},
   "outputs": [
    {
     "data": {
      "text/plain": [
       "age         0\n",
       "sex         0\n",
       "bmi         0\n",
       "children    0\n",
       "smoker      0\n",
       "region      0\n",
       "charges     0\n",
       "dtype: int64"
      ]
     },
     "execution_count": 1587,
     "metadata": {},
     "output_type": "execute_result"
    }
   ],
   "source": [
    "df.isnull().sum()"
   ]
  },
  {
   "cell_type": "code",
   "execution_count": 1588,
   "id": "7c713a7d",
   "metadata": {},
   "outputs": [
    {
     "data": {
      "text/plain": [
       "age           int64\n",
       "sex          object\n",
       "bmi         float64\n",
       "children      int64\n",
       "smoker       object\n",
       "region       object\n",
       "charges     float64\n",
       "dtype: object"
      ]
     },
     "execution_count": 1588,
     "metadata": {},
     "output_type": "execute_result"
    }
   ],
   "source": [
    "df.dtypes"
   ]
  },
  {
   "cell_type": "code",
   "execution_count": 1589,
   "id": "26cfdb8c",
   "metadata": {},
   "outputs": [],
   "source": [
    "df[\"smoker\"] = df[\"smoker\"].replace(\"yes\",1).replace(\"no\",0)"
   ]
  },
  {
   "cell_type": "code",
   "execution_count": 1590,
   "id": "c40b2199",
   "metadata": {},
   "outputs": [
    {
     "data": {
      "text/plain": [
       "56.854838709677416"
      ]
     },
     "execution_count": 1590,
     "metadata": {},
     "output_type": "execute_result"
    }
   ],
   "source": [
    "male_smokers=df[\"smoker\"][df[\"sex\"]==\"male\"].sum()*100/df[\"smoker\"].sum()\n",
    "male_smokers"
   ]
  },
  {
   "cell_type": "code",
   "execution_count": 1591,
   "id": "626ca9b8",
   "metadata": {},
   "outputs": [
    {
     "data": {
      "text/plain": [
       "43.145161290322584"
      ]
     },
     "execution_count": 1591,
     "metadata": {},
     "output_type": "execute_result"
    }
   ],
   "source": [
    "female_smokers=df[\"smoker\"][df[\"sex\"]==\"female\"].sum()*100/df[\"smoker\"].sum()\n",
    "female_smokers"
   ]
  },
  {
   "cell_type": "code",
   "execution_count": 1592,
   "id": "a4679fd5",
   "metadata": {},
   "outputs": [
    {
     "data": {
      "image/png": "[encoded data removed]",
      "text/plain": [
       "<Figure size 640x480 with 1 Axes>"
      ]
     },
     "metadata": {},
     "output_type": "display_data"
    }
   ],
   "source": [
    "plt.pie([male_smokers,female_smokers], explode=[0.1,0],autopct='%.2f%%',\n",
    "        labels=[\"Male Smokers\", \"Female Smokers\"], shadow=True, startangle=90);"
   ]
  },
  {
   "cell_type": "code",
   "execution_count": null,
   "id": "01523bd2",
   "metadata": {},
   "outputs": [],
   "source": []
  },
  {
   "cell_type": "code",
   "execution_count": 1593,
   "id": "ffe8b772",
   "metadata": {},
   "outputs": [
    {
     "data": {
      "text/html": [
       "<div>\n",
       "<style scoped>\n",
       "    .dataframe tbody tr th:only-of-type {\n",
       "        vertical-align: middle;\n",
       "    }\n",
       "\n",
       "    .dataframe tbody tr th {\n",
       "        vertical-align: top;\n",
       "    }\n",
       "\n",
       "    .dataframe thead th {\n",
       "        text-align: right;\n",
       "    }\n",
       "</style>\n",
       "<table border=\"1\" class=\"dataframe\">\n",
       "  <thead>\n",
       "    <tr style=\"text-align: right;\">\n",
       "      <th></th>\n",
       "      <th>age</th>\n",
       "      <th>bmi</th>\n",
       "      <th>children</th>\n",
       "      <th>smoker</th>\n",
       "      <th>region</th>\n",
       "      <th>charges</th>\n",
       "      <th>gender_female</th>\n",
       "      <th>gender_male</th>\n",
       "    </tr>\n",
       "  </thead>\n",
       "  <tbody>\n",
       "    <tr>\n",
       "      <th>0</th>\n",
       "      <td>19</td>\n",
       "      <td>27.900</td>\n",
       "      <td>0</td>\n",
       "      <td>1</td>\n",
       "      <td>southwest</td>\n",
       "      <td>16884.92400</td>\n",
       "      <td>1</td>\n",
       "      <td>0</td>\n",
       "    </tr>\n",
       "    <tr>\n",
       "      <th>1</th>\n",
       "      <td>18</td>\n",
       "      <td>33.770</td>\n",
       "      <td>1</td>\n",
       "      <td>0</td>\n",
       "      <td>southeast</td>\n",
       "      <td>1725.55230</td>\n",
       "      <td>0</td>\n",
       "      <td>1</td>\n",
       "    </tr>\n",
       "    <tr>\n",
       "      <th>2</th>\n",
       "      <td>28</td>\n",
       "      <td>33.000</td>\n",
       "      <td>3</td>\n",
       "      <td>0</td>\n",
       "      <td>southeast</td>\n",
       "      <td>4449.46200</td>\n",
       "      <td>0</td>\n",
       "      <td>1</td>\n",
       "    </tr>\n",
       "    <tr>\n",
       "      <th>3</th>\n",
       "      <td>33</td>\n",
       "      <td>22.705</td>\n",
       "      <td>0</td>\n",
       "      <td>0</td>\n",
       "      <td>northwest</td>\n",
       "      <td>21984.47061</td>\n",
       "      <td>0</td>\n",
       "      <td>1</td>\n",
       "    </tr>\n",
       "    <tr>\n",
       "      <th>4</th>\n",
       "      <td>32</td>\n",
       "      <td>28.880</td>\n",
       "      <td>0</td>\n",
       "      <td>0</td>\n",
       "      <td>northwest</td>\n",
       "      <td>3866.85520</td>\n",
       "      <td>0</td>\n",
       "      <td>1</td>\n",
       "    </tr>\n",
       "    <tr>\n",
       "      <th>...</th>\n",
       "      <td>...</td>\n",
       "      <td>...</td>\n",
       "      <td>...</td>\n",
       "      <td>...</td>\n",
       "      <td>...</td>\n",
       "      <td>...</td>\n",
       "      <td>...</td>\n",
       "      <td>...</td>\n",
       "    </tr>\n",
       "    <tr>\n",
       "      <th>1233</th>\n",
       "      <td>58</td>\n",
       "      <td>23.300</td>\n",
       "      <td>0</td>\n",
       "      <td>0</td>\n",
       "      <td>southwest</td>\n",
       "      <td>11345.51900</td>\n",
       "      <td>0</td>\n",
       "      <td>1</td>\n",
       "    </tr>\n",
       "    <tr>\n",
       "      <th>1234</th>\n",
       "      <td>45</td>\n",
       "      <td>27.830</td>\n",
       "      <td>2</td>\n",
       "      <td>0</td>\n",
       "      <td>southeast</td>\n",
       "      <td>8515.75870</td>\n",
       "      <td>1</td>\n",
       "      <td>0</td>\n",
       "    </tr>\n",
       "    <tr>\n",
       "      <th>1235</th>\n",
       "      <td>26</td>\n",
       "      <td>31.065</td>\n",
       "      <td>0</td>\n",
       "      <td>0</td>\n",
       "      <td>northwest</td>\n",
       "      <td>2699.56835</td>\n",
       "      <td>0</td>\n",
       "      <td>1</td>\n",
       "    </tr>\n",
       "    <tr>\n",
       "      <th>1236</th>\n",
       "      <td>63</td>\n",
       "      <td>21.660</td>\n",
       "      <td>0</td>\n",
       "      <td>0</td>\n",
       "      <td>northeast</td>\n",
       "      <td>14449.85440</td>\n",
       "      <td>1</td>\n",
       "      <td>0</td>\n",
       "    </tr>\n",
       "    <tr>\n",
       "      <th>1237</th>\n",
       "      <td>58</td>\n",
       "      <td>28.215</td>\n",
       "      <td>0</td>\n",
       "      <td>0</td>\n",
       "      <td>northwest</td>\n",
       "      <td>12224.35085</td>\n",
       "      <td>1</td>\n",
       "      <td>0</td>\n",
       "    </tr>\n",
       "  </tbody>\n",
       "</table>\n",
       "<p>1238 rows × 8 columns</p>\n",
       "</div>"
      ],
      "text/plain": [
       "      age     bmi  children  smoker     region      charges  gender_female  \\\n",
       "0      19  27.900         0       1  southwest  16884.92400              1   \n",
       "1      18  33.770         1       0  southeast   1725.55230              0   \n",
       "2      28  33.000         3       0  southeast   4449.46200              0   \n",
       "3      33  22.705         0       0  northwest  21984.47061              0   \n",
       "4      32  28.880         0       0  northwest   3866.85520              0   \n",
       "...   ...     ...       ...     ...        ...          ...            ...   \n",
       "1233   58  23.300         0       0  southwest  11345.51900              0   \n",
       "1234   45  27.830         2       0  southeast   8515.75870              1   \n",
       "1235   26  31.065         0       0  northwest   2699.56835              0   \n",
       "1236   63  21.660         0       0  northeast  14449.85440              1   \n",
       "1237   58  28.215         0       0  northwest  12224.35085              1   \n",
       "\n",
       "      gender_male  \n",
       "0               0  \n",
       "1               1  \n",
       "2               1  \n",
       "3               1  \n",
       "4               1  \n",
       "...           ...  \n",
       "1233            1  \n",
       "1234            0  \n",
       "1235            1  \n",
       "1236            0  \n",
       "1237            0  \n",
       "\n",
       "[1238 rows x 8 columns]"
      ]
     },
     "execution_count": 1593,
     "metadata": {},
     "output_type": "execute_result"
    }
   ],
   "source": [
    "dummies = \"gender\"\n",
    "encoding = pd.get_dummies(df[\"sex\"], prefix=dummies)\n",
    "df_ub = pd.concat([df, encoding], axis=1)\n",
    "\n",
    "df_ub = df_ub.drop(\"sex\", axis=1)\n",
    "df_ub"
   ]
  },
  {
   "cell_type": "code",
   "execution_count": 1594,
   "id": "da3c00f5",
   "metadata": {},
   "outputs": [
    {
     "data": {
      "text/html": [
       "<div>\n",
       "<style scoped>\n",
       "    .dataframe tbody tr th:only-of-type {\n",
       "        vertical-align: middle;\n",
       "    }\n",
       "\n",
       "    .dataframe tbody tr th {\n",
       "        vertical-align: top;\n",
       "    }\n",
       "\n",
       "    .dataframe thead th {\n",
       "        text-align: right;\n",
       "    }\n",
       "</style>\n",
       "<table border=\"1\" class=\"dataframe\">\n",
       "  <thead>\n",
       "    <tr style=\"text-align: right;\">\n",
       "      <th></th>\n",
       "      <th>age</th>\n",
       "      <th>bmi</th>\n",
       "      <th>children</th>\n",
       "      <th>smoker</th>\n",
       "      <th>region</th>\n",
       "      <th>charges</th>\n",
       "      <th>gender_female</th>\n",
       "      <th>gender_male</th>\n",
       "    </tr>\n",
       "  </thead>\n",
       "  <tbody>\n",
       "    <tr>\n",
       "      <th>0</th>\n",
       "      <td>19</td>\n",
       "      <td>27.900</td>\n",
       "      <td>0</td>\n",
       "      <td>1</td>\n",
       "      <td>southwest</td>\n",
       "      <td>16884.92400</td>\n",
       "      <td>1</td>\n",
       "      <td>0</td>\n",
       "    </tr>\n",
       "    <tr>\n",
       "      <th>11</th>\n",
       "      <td>62</td>\n",
       "      <td>26.290</td>\n",
       "      <td>0</td>\n",
       "      <td>1</td>\n",
       "      <td>southeast</td>\n",
       "      <td>27808.72510</td>\n",
       "      <td>1</td>\n",
       "      <td>0</td>\n",
       "    </tr>\n",
       "    <tr>\n",
       "      <th>14</th>\n",
       "      <td>27</td>\n",
       "      <td>42.130</td>\n",
       "      <td>0</td>\n",
       "      <td>1</td>\n",
       "      <td>southeast</td>\n",
       "      <td>39611.75770</td>\n",
       "      <td>0</td>\n",
       "      <td>1</td>\n",
       "    </tr>\n",
       "    <tr>\n",
       "      <th>19</th>\n",
       "      <td>30</td>\n",
       "      <td>35.300</td>\n",
       "      <td>0</td>\n",
       "      <td>1</td>\n",
       "      <td>southwest</td>\n",
       "      <td>36837.46700</td>\n",
       "      <td>0</td>\n",
       "      <td>1</td>\n",
       "    </tr>\n",
       "    <tr>\n",
       "      <th>23</th>\n",
       "      <td>34</td>\n",
       "      <td>31.920</td>\n",
       "      <td>1</td>\n",
       "      <td>1</td>\n",
       "      <td>northeast</td>\n",
       "      <td>37701.87680</td>\n",
       "      <td>1</td>\n",
       "      <td>0</td>\n",
       "    </tr>\n",
       "    <tr>\n",
       "      <th>...</th>\n",
       "      <td>...</td>\n",
       "      <td>...</td>\n",
       "      <td>...</td>\n",
       "      <td>...</td>\n",
       "      <td>...</td>\n",
       "      <td>...</td>\n",
       "      <td>...</td>\n",
       "      <td>...</td>\n",
       "    </tr>\n",
       "    <tr>\n",
       "      <th>1208</th>\n",
       "      <td>37</td>\n",
       "      <td>25.555</td>\n",
       "      <td>1</td>\n",
       "      <td>1</td>\n",
       "      <td>northeast</td>\n",
       "      <td>20296.86345</td>\n",
       "      <td>1</td>\n",
       "      <td>0</td>\n",
       "    </tr>\n",
       "    <tr>\n",
       "      <th>1218</th>\n",
       "      <td>46</td>\n",
       "      <td>34.600</td>\n",
       "      <td>1</td>\n",
       "      <td>1</td>\n",
       "      <td>southwest</td>\n",
       "      <td>41661.60200</td>\n",
       "      <td>1</td>\n",
       "      <td>0</td>\n",
       "    </tr>\n",
       "    <tr>\n",
       "      <th>1223</th>\n",
       "      <td>20</td>\n",
       "      <td>24.420</td>\n",
       "      <td>0</td>\n",
       "      <td>1</td>\n",
       "      <td>southeast</td>\n",
       "      <td>26125.67477</td>\n",
       "      <td>1</td>\n",
       "      <td>0</td>\n",
       "    </tr>\n",
       "    <tr>\n",
       "      <th>1230</th>\n",
       "      <td>52</td>\n",
       "      <td>34.485</td>\n",
       "      <td>3</td>\n",
       "      <td>1</td>\n",
       "      <td>northwest</td>\n",
       "      <td>60021.39897</td>\n",
       "      <td>0</td>\n",
       "      <td>1</td>\n",
       "    </tr>\n",
       "    <tr>\n",
       "      <th>1231</th>\n",
       "      <td>20</td>\n",
       "      <td>21.800</td>\n",
       "      <td>0</td>\n",
       "      <td>1</td>\n",
       "      <td>southwest</td>\n",
       "      <td>20167.33603</td>\n",
       "      <td>1</td>\n",
       "      <td>0</td>\n",
       "    </tr>\n",
       "  </tbody>\n",
       "</table>\n",
       "<p>248 rows × 8 columns</p>\n",
       "</div>"
      ],
      "text/plain": [
       "      age     bmi  children  smoker     region      charges  gender_female  \\\n",
       "0      19  27.900         0       1  southwest  16884.92400              1   \n",
       "11     62  26.290         0       1  southeast  27808.72510              1   \n",
       "14     27  42.130         0       1  southeast  39611.75770              0   \n",
       "19     30  35.300         0       1  southwest  36837.46700              0   \n",
       "23     34  31.920         1       1  northeast  37701.87680              1   \n",
       "...   ...     ...       ...     ...        ...          ...            ...   \n",
       "1208   37  25.555         1       1  northeast  20296.86345              1   \n",
       "1218   46  34.600         1       1  southwest  41661.60200              1   \n",
       "1223   20  24.420         0       1  southeast  26125.67477              1   \n",
       "1230   52  34.485         3       1  northwest  60021.39897              0   \n",
       "1231   20  21.800         0       1  southwest  20167.33603              1   \n",
       "\n",
       "      gender_male  \n",
       "0               0  \n",
       "11              0  \n",
       "14              1  \n",
       "19              1  \n",
       "23              0  \n",
       "...           ...  \n",
       "1208            0  \n",
       "1218            0  \n",
       "1223            0  \n",
       "1230            1  \n",
       "1231            0  \n",
       "\n",
       "[248 rows x 8 columns]"
      ]
     },
     "execution_count": 1594,
     "metadata": {},
     "output_type": "execute_result"
    }
   ],
   "source": [
    "df_ub[df_ub[\"smoker\"]==1]"
   ]
  },
  {
   "cell_type": "code",
   "execution_count": 1595,
   "id": "2ee850e1",
   "metadata": {},
   "outputs": [
    {
     "data": {
      "text/plain": [
       "0    990\n",
       "1    248\n",
       "Name: smoker, dtype: int64"
      ]
     },
     "execution_count": 1595,
     "metadata": {},
     "output_type": "execute_result"
    }
   ],
   "source": [
    "df_ub[\"smoker\"].value_counts()"
   ]
  },
  {
   "cell_type": "code",
   "execution_count": 1596,
   "id": "3d915812",
   "metadata": {},
   "outputs": [
    {
     "data": {
      "text/plain": [
       "southeast    339\n",
       "northwest    303\n",
       "northeast    300\n",
       "southwest    296\n",
       "Name: region, dtype: int64"
      ]
     },
     "execution_count": 1596,
     "metadata": {},
     "output_type": "execute_result"
    }
   ],
   "source": [
    "df_ub[\"region\"].value_counts()"
   ]
  },
  {
   "cell_type": "code",
   "execution_count": 1597,
   "id": "732ac874",
   "metadata": {},
   "outputs": [],
   "source": [
    "dummies = [1,2,3,4]\n",
    "encoding = pd.get_dummies(df_ub[\"region\"], prefix=dummies)\n",
    "df_enc = pd.concat([df_ub, encoding], axis=1)"
   ]
  },
  {
   "cell_type": "code",
   "execution_count": 1598,
   "id": "06ad4214",
   "metadata": {},
   "outputs": [
    {
     "data": {
      "text/html": [
       "<div>\n",
       "<style scoped>\n",
       "    .dataframe tbody tr th:only-of-type {\n",
       "        vertical-align: middle;\n",
       "    }\n",
       "\n",
       "    .dataframe tbody tr th {\n",
       "        vertical-align: top;\n",
       "    }\n",
       "\n",
       "    .dataframe thead th {\n",
       "        text-align: right;\n",
       "    }\n",
       "</style>\n",
       "<table border=\"1\" class=\"dataframe\">\n",
       "  <thead>\n",
       "    <tr style=\"text-align: right;\">\n",
       "      <th></th>\n",
       "      <th>age</th>\n",
       "      <th>bmi</th>\n",
       "      <th>children</th>\n",
       "      <th>smoker</th>\n",
       "      <th>region</th>\n",
       "      <th>charges</th>\n",
       "      <th>gender_female</th>\n",
       "      <th>gender_male</th>\n",
       "      <th>[1, 2, 3, 4]_northeast</th>\n",
       "      <th>[1, 2, 3, 4]_northwest</th>\n",
       "      <th>[1, 2, 3, 4]_southeast</th>\n",
       "      <th>[1, 2, 3, 4]_southwest</th>\n",
       "    </tr>\n",
       "  </thead>\n",
       "  <tbody>\n",
       "    <tr>\n",
       "      <th>0</th>\n",
       "      <td>19</td>\n",
       "      <td>27.900</td>\n",
       "      <td>0</td>\n",
       "      <td>1</td>\n",
       "      <td>southwest</td>\n",
       "      <td>16884.92400</td>\n",
       "      <td>1</td>\n",
       "      <td>0</td>\n",
       "      <td>0</td>\n",
       "      <td>0</td>\n",
       "      <td>0</td>\n",
       "      <td>1</td>\n",
       "    </tr>\n",
       "    <tr>\n",
       "      <th>1</th>\n",
       "      <td>18</td>\n",
       "      <td>33.770</td>\n",
       "      <td>1</td>\n",
       "      <td>0</td>\n",
       "      <td>southeast</td>\n",
       "      <td>1725.55230</td>\n",
       "      <td>0</td>\n",
       "      <td>1</td>\n",
       "      <td>0</td>\n",
       "      <td>0</td>\n",
       "      <td>1</td>\n",
       "      <td>0</td>\n",
       "    </tr>\n",
       "    <tr>\n",
       "      <th>2</th>\n",
       "      <td>28</td>\n",
       "      <td>33.000</td>\n",
       "      <td>3</td>\n",
       "      <td>0</td>\n",
       "      <td>southeast</td>\n",
       "      <td>4449.46200</td>\n",
       "      <td>0</td>\n",
       "      <td>1</td>\n",
       "      <td>0</td>\n",
       "      <td>0</td>\n",
       "      <td>1</td>\n",
       "      <td>0</td>\n",
       "    </tr>\n",
       "    <tr>\n",
       "      <th>3</th>\n",
       "      <td>33</td>\n",
       "      <td>22.705</td>\n",
       "      <td>0</td>\n",
       "      <td>0</td>\n",
       "      <td>northwest</td>\n",
       "      <td>21984.47061</td>\n",
       "      <td>0</td>\n",
       "      <td>1</td>\n",
       "      <td>0</td>\n",
       "      <td>1</td>\n",
       "      <td>0</td>\n",
       "      <td>0</td>\n",
       "    </tr>\n",
       "    <tr>\n",
       "      <th>4</th>\n",
       "      <td>32</td>\n",
       "      <td>28.880</td>\n",
       "      <td>0</td>\n",
       "      <td>0</td>\n",
       "      <td>northwest</td>\n",
       "      <td>3866.85520</td>\n",
       "      <td>0</td>\n",
       "      <td>1</td>\n",
       "      <td>0</td>\n",
       "      <td>1</td>\n",
       "      <td>0</td>\n",
       "      <td>0</td>\n",
       "    </tr>\n",
       "    <tr>\n",
       "      <th>...</th>\n",
       "      <td>...</td>\n",
       "      <td>...</td>\n",
       "      <td>...</td>\n",
       "      <td>...</td>\n",
       "      <td>...</td>\n",
       "      <td>...</td>\n",
       "      <td>...</td>\n",
       "      <td>...</td>\n",
       "      <td>...</td>\n",
       "      <td>...</td>\n",
       "      <td>...</td>\n",
       "      <td>...</td>\n",
       "    </tr>\n",
       "    <tr>\n",
       "      <th>1233</th>\n",
       "      <td>58</td>\n",
       "      <td>23.300</td>\n",
       "      <td>0</td>\n",
       "      <td>0</td>\n",
       "      <td>southwest</td>\n",
       "      <td>11345.51900</td>\n",
       "      <td>0</td>\n",
       "      <td>1</td>\n",
       "      <td>0</td>\n",
       "      <td>0</td>\n",
       "      <td>0</td>\n",
       "      <td>1</td>\n",
       "    </tr>\n",
       "    <tr>\n",
       "      <th>1234</th>\n",
       "      <td>45</td>\n",
       "      <td>27.830</td>\n",
       "      <td>2</td>\n",
       "      <td>0</td>\n",
       "      <td>southeast</td>\n",
       "      <td>8515.75870</td>\n",
       "      <td>1</td>\n",
       "      <td>0</td>\n",
       "      <td>0</td>\n",
       "      <td>0</td>\n",
       "      <td>1</td>\n",
       "      <td>0</td>\n",
       "    </tr>\n",
       "    <tr>\n",
       "      <th>1235</th>\n",
       "      <td>26</td>\n",
       "      <td>31.065</td>\n",
       "      <td>0</td>\n",
       "      <td>0</td>\n",
       "      <td>northwest</td>\n",
       "      <td>2699.56835</td>\n",
       "      <td>0</td>\n",
       "      <td>1</td>\n",
       "      <td>0</td>\n",
       "      <td>1</td>\n",
       "      <td>0</td>\n",
       "      <td>0</td>\n",
       "    </tr>\n",
       "    <tr>\n",
       "      <th>1236</th>\n",
       "      <td>63</td>\n",
       "      <td>21.660</td>\n",
       "      <td>0</td>\n",
       "      <td>0</td>\n",
       "      <td>northeast</td>\n",
       "      <td>14449.85440</td>\n",
       "      <td>1</td>\n",
       "      <td>0</td>\n",
       "      <td>1</td>\n",
       "      <td>0</td>\n",
       "      <td>0</td>\n",
       "      <td>0</td>\n",
       "    </tr>\n",
       "    <tr>\n",
       "      <th>1237</th>\n",
       "      <td>58</td>\n",
       "      <td>28.215</td>\n",
       "      <td>0</td>\n",
       "      <td>0</td>\n",
       "      <td>northwest</td>\n",
       "      <td>12224.35085</td>\n",
       "      <td>1</td>\n",
       "      <td>0</td>\n",
       "      <td>0</td>\n",
       "      <td>1</td>\n",
       "      <td>0</td>\n",
       "      <td>0</td>\n",
       "    </tr>\n",
       "  </tbody>\n",
       "</table>\n",
       "<p>1238 rows × 12 columns</p>\n",
       "</div>"
      ],
      "text/plain": [
       "      age     bmi  children  smoker     region      charges  gender_female  \\\n",
       "0      19  27.900         0       1  southwest  16884.92400              1   \n",
       "1      18  33.770         1       0  southeast   1725.55230              0   \n",
       "2      28  33.000         3       0  southeast   4449.46200              0   \n",
       "3      33  22.705         0       0  northwest  21984.47061              0   \n",
       "4      32  28.880         0       0  northwest   3866.85520              0   \n",
       "...   ...     ...       ...     ...        ...          ...            ...   \n",
       "1233   58  23.300         0       0  southwest  11345.51900              0   \n",
       "1234   45  27.830         2       0  southeast   8515.75870              1   \n",
       "1235   26  31.065         0       0  northwest   2699.56835              0   \n",
       "1236   63  21.660         0       0  northeast  14449.85440              1   \n",
       "1237   58  28.215         0       0  northwest  12224.35085              1   \n",
       "\n",
       "      gender_male  [1, 2, 3, 4]_northeast  [1, 2, 3, 4]_northwest  \\\n",
       "0               0                       0                       0   \n",
       "1               1                       0                       0   \n",
       "2               1                       0                       0   \n",
       "3               1                       0                       1   \n",
       "4               1                       0                       1   \n",
       "...           ...                     ...                     ...   \n",
       "1233            1                       0                       0   \n",
       "1234            0                       0                       0   \n",
       "1235            1                       0                       1   \n",
       "1236            0                       1                       0   \n",
       "1237            0                       0                       1   \n",
       "\n",
       "      [1, 2, 3, 4]_southeast  [1, 2, 3, 4]_southwest  \n",
       "0                          0                       1  \n",
       "1                          1                       0  \n",
       "2                          1                       0  \n",
       "3                          0                       0  \n",
       "4                          0                       0  \n",
       "...                      ...                     ...  \n",
       "1233                       0                       1  \n",
       "1234                       1                       0  \n",
       "1235                       0                       0  \n",
       "1236                       0                       0  \n",
       "1237                       0                       0  \n",
       "\n",
       "[1238 rows x 12 columns]"
      ]
     },
     "execution_count": 1598,
     "metadata": {},
     "output_type": "execute_result"
    }
   ],
   "source": [
    "df_enc"
   ]
  },
  {
   "cell_type": "code",
   "execution_count": 1599,
   "id": "e6e680ec",
   "metadata": {},
   "outputs": [],
   "source": [
    "column_mapping = {'[1, 2, 3, 4]_northeast':'North-East',  '[1, 2, 3, 4]_northwest':'North-West', \n",
    "                   '[1, 2, 3, 4]_southeast':'South-East', '[1, 2, 3, 4]_southwest':'South-West'}\n",
    "df_enc = df_enc.rename(columns=column_mapping)\n"
   ]
  },
  {
   "cell_type": "code",
   "execution_count": 1600,
   "id": "0d7a0f11",
   "metadata": {},
   "outputs": [
    {
     "data": {
      "text/html": [
       "<div>\n",
       "<style scoped>\n",
       "    .dataframe tbody tr th:only-of-type {\n",
       "        vertical-align: middle;\n",
       "    }\n",
       "\n",
       "    .dataframe tbody tr th {\n",
       "        vertical-align: top;\n",
       "    }\n",
       "\n",
       "    .dataframe thead th {\n",
       "        text-align: right;\n",
       "    }\n",
       "</style>\n",
       "<table border=\"1\" class=\"dataframe\">\n",
       "  <thead>\n",
       "    <tr style=\"text-align: right;\">\n",
       "      <th></th>\n",
       "      <th>age</th>\n",
       "      <th>bmi</th>\n",
       "      <th>children</th>\n",
       "      <th>smoker</th>\n",
       "      <th>region</th>\n",
       "      <th>charges</th>\n",
       "      <th>gender_female</th>\n",
       "      <th>gender_male</th>\n",
       "      <th>North-East</th>\n",
       "      <th>North-West</th>\n",
       "      <th>South-East</th>\n",
       "      <th>South-West</th>\n",
       "    </tr>\n",
       "  </thead>\n",
       "  <tbody>\n",
       "    <tr>\n",
       "      <th>0</th>\n",
       "      <td>19</td>\n",
       "      <td>27.900</td>\n",
       "      <td>0</td>\n",
       "      <td>1</td>\n",
       "      <td>southwest</td>\n",
       "      <td>16884.92400</td>\n",
       "      <td>1</td>\n",
       "      <td>0</td>\n",
       "      <td>0</td>\n",
       "      <td>0</td>\n",
       "      <td>0</td>\n",
       "      <td>1</td>\n",
       "    </tr>\n",
       "    <tr>\n",
       "      <th>1</th>\n",
       "      <td>18</td>\n",
       "      <td>33.770</td>\n",
       "      <td>1</td>\n",
       "      <td>0</td>\n",
       "      <td>southeast</td>\n",
       "      <td>1725.55230</td>\n",
       "      <td>0</td>\n",
       "      <td>1</td>\n",
       "      <td>0</td>\n",
       "      <td>0</td>\n",
       "      <td>1</td>\n",
       "      <td>0</td>\n",
       "    </tr>\n",
       "    <tr>\n",
       "      <th>2</th>\n",
       "      <td>28</td>\n",
       "      <td>33.000</td>\n",
       "      <td>3</td>\n",
       "      <td>0</td>\n",
       "      <td>southeast</td>\n",
       "      <td>4449.46200</td>\n",
       "      <td>0</td>\n",
       "      <td>1</td>\n",
       "      <td>0</td>\n",
       "      <td>0</td>\n",
       "      <td>1</td>\n",
       "      <td>0</td>\n",
       "    </tr>\n",
       "    <tr>\n",
       "      <th>3</th>\n",
       "      <td>33</td>\n",
       "      <td>22.705</td>\n",
       "      <td>0</td>\n",
       "      <td>0</td>\n",
       "      <td>northwest</td>\n",
       "      <td>21984.47061</td>\n",
       "      <td>0</td>\n",
       "      <td>1</td>\n",
       "      <td>0</td>\n",
       "      <td>1</td>\n",
       "      <td>0</td>\n",
       "      <td>0</td>\n",
       "    </tr>\n",
       "    <tr>\n",
       "      <th>4</th>\n",
       "      <td>32</td>\n",
       "      <td>28.880</td>\n",
       "      <td>0</td>\n",
       "      <td>0</td>\n",
       "      <td>northwest</td>\n",
       "      <td>3866.85520</td>\n",
       "      <td>0</td>\n",
       "      <td>1</td>\n",
       "      <td>0</td>\n",
       "      <td>1</td>\n",
       "      <td>0</td>\n",
       "      <td>0</td>\n",
       "    </tr>\n",
       "    <tr>\n",
       "      <th>...</th>\n",
       "      <td>...</td>\n",
       "      <td>...</td>\n",
       "      <td>...</td>\n",
       "      <td>...</td>\n",
       "      <td>...</td>\n",
       "      <td>...</td>\n",
       "      <td>...</td>\n",
       "      <td>...</td>\n",
       "      <td>...</td>\n",
       "      <td>...</td>\n",
       "      <td>...</td>\n",
       "      <td>...</td>\n",
       "    </tr>\n",
       "    <tr>\n",
       "      <th>1233</th>\n",
       "      <td>58</td>\n",
       "      <td>23.300</td>\n",
       "      <td>0</td>\n",
       "      <td>0</td>\n",
       "      <td>southwest</td>\n",
       "      <td>11345.51900</td>\n",
       "      <td>0</td>\n",
       "      <td>1</td>\n",
       "      <td>0</td>\n",
       "      <td>0</td>\n",
       "      <td>0</td>\n",
       "      <td>1</td>\n",
       "    </tr>\n",
       "    <tr>\n",
       "      <th>1234</th>\n",
       "      <td>45</td>\n",
       "      <td>27.830</td>\n",
       "      <td>2</td>\n",
       "      <td>0</td>\n",
       "      <td>southeast</td>\n",
       "      <td>8515.75870</td>\n",
       "      <td>1</td>\n",
       "      <td>0</td>\n",
       "      <td>0</td>\n",
       "      <td>0</td>\n",
       "      <td>1</td>\n",
       "      <td>0</td>\n",
       "    </tr>\n",
       "    <tr>\n",
       "      <th>1235</th>\n",
       "      <td>26</td>\n",
       "      <td>31.065</td>\n",
       "      <td>0</td>\n",
       "      <td>0</td>\n",
       "      <td>northwest</td>\n",
       "      <td>2699.56835</td>\n",
       "      <td>0</td>\n",
       "      <td>1</td>\n",
       "      <td>0</td>\n",
       "      <td>1</td>\n",
       "      <td>0</td>\n",
       "      <td>0</td>\n",
       "    </tr>\n",
       "    <tr>\n",
       "      <th>1236</th>\n",
       "      <td>63</td>\n",
       "      <td>21.660</td>\n",
       "      <td>0</td>\n",
       "      <td>0</td>\n",
       "      <td>northeast</td>\n",
       "      <td>14449.85440</td>\n",
       "      <td>1</td>\n",
       "      <td>0</td>\n",
       "      <td>1</td>\n",
       "      <td>0</td>\n",
       "      <td>0</td>\n",
       "      <td>0</td>\n",
       "    </tr>\n",
       "    <tr>\n",
       "      <th>1237</th>\n",
       "      <td>58</td>\n",
       "      <td>28.215</td>\n",
       "      <td>0</td>\n",
       "      <td>0</td>\n",
       "      <td>northwest</td>\n",
       "      <td>12224.35085</td>\n",
       "      <td>1</td>\n",
       "      <td>0</td>\n",
       "      <td>0</td>\n",
       "      <td>1</td>\n",
       "      <td>0</td>\n",
       "      <td>0</td>\n",
       "    </tr>\n",
       "  </tbody>\n",
       "</table>\n",
       "<p>1238 rows × 12 columns</p>\n",
       "</div>"
      ],
      "text/plain": [
       "      age     bmi  children  smoker     region      charges  gender_female  \\\n",
       "0      19  27.900         0       1  southwest  16884.92400              1   \n",
       "1      18  33.770         1       0  southeast   1725.55230              0   \n",
       "2      28  33.000         3       0  southeast   4449.46200              0   \n",
       "3      33  22.705         0       0  northwest  21984.47061              0   \n",
       "4      32  28.880         0       0  northwest   3866.85520              0   \n",
       "...   ...     ...       ...     ...        ...          ...            ...   \n",
       "1233   58  23.300         0       0  southwest  11345.51900              0   \n",
       "1234   45  27.830         2       0  southeast   8515.75870              1   \n",
       "1235   26  31.065         0       0  northwest   2699.56835              0   \n",
       "1236   63  21.660         0       0  northeast  14449.85440              1   \n",
       "1237   58  28.215         0       0  northwest  12224.35085              1   \n",
       "\n",
       "      gender_male  North-East  North-West  South-East  South-West  \n",
       "0               0           0           0           0           1  \n",
       "1               1           0           0           1           0  \n",
       "2               1           0           0           1           0  \n",
       "3               1           0           1           0           0  \n",
       "4               1           0           1           0           0  \n",
       "...           ...         ...         ...         ...         ...  \n",
       "1233            1           0           0           0           1  \n",
       "1234            0           0           0           1           0  \n",
       "1235            1           0           1           0           0  \n",
       "1236            0           1           0           0           0  \n",
       "1237            0           0           1           0           0  \n",
       "\n",
       "[1238 rows x 12 columns]"
      ]
     },
     "execution_count": 1600,
     "metadata": {},
     "output_type": "execute_result"
    }
   ],
   "source": [
    "df_enc"
   ]
  },
  {
   "cell_type": "code",
   "execution_count": 1601,
   "id": "4120e8a6",
   "metadata": {},
   "outputs": [],
   "source": [
    "df_enc=df_enc.drop(\"region\", axis=1)"
   ]
  },
  {
   "cell_type": "code",
   "execution_count": 1602,
   "id": "5e127fe4",
   "metadata": {},
   "outputs": [
    {
     "data": {
      "image/png": "[encoded data removed]",
      "text/plain": [
       "<Figure size 640x480 with 1 Axes>"
      ]
     },
     "metadata": {},
     "output_type": "display_data"
    }
   ],
   "source": [
    "df_enc.corr().plot.bar(legend=False);"
   ]
  },
  {
   "cell_type": "code",
   "execution_count": 1603,
   "id": "3a4e93f4",
   "metadata": {},
   "outputs": [
    {
     "data": {
      "image/png": "[encoded data removed]",
      "text/plain": [
       "<Figure size 640x480 with 1 Axes>"
      ]
     },
     "metadata": {},
     "output_type": "display_data"
    }
   ],
   "source": [
    "df_enc.drop([\"smoker\",\"age\", \"bmi\"],axis=1).corr().plot.bar(legend=False);"
   ]
  },
  {
   "cell_type": "code",
   "execution_count": 1604,
   "id": "246ac761",
   "metadata": {},
   "outputs": [
    {
     "data": {
      "text/plain": [
       "0.20032310177705978"
      ]
     },
     "execution_count": 1604,
     "metadata": {},
     "output_type": "execute_result"
    }
   ],
   "source": [
    "df_enc[\"smoker\"][df_enc[\"smoker\"]==1].count()/(df_enc[\"smoker\"][df_enc[\"smoker\"]==1].count()+df_enc[\"smoker\"][df_enc[\"smoker\"]==0].count())\n"
   ]
  },
  {
   "cell_type": "code",
   "execution_count": 1605,
   "id": "360150de",
   "metadata": {},
   "outputs": [
    {
     "data": {
      "text/plain": [
       "age                int64\n",
       "bmi              float64\n",
       "children           int64\n",
       "smoker             int64\n",
       "charges          float64\n",
       "gender_female      uint8\n",
       "gender_male        uint8\n",
       "North-East         uint8\n",
       "North-West         uint8\n",
       "South-East         uint8\n",
       "South-West         uint8\n",
       "dtype: object"
      ]
     },
     "execution_count": 1605,
     "metadata": {},
     "output_type": "execute_result"
    }
   ],
   "source": [
    "df_enc.dtypes"
   ]
  },
  {
   "cell_type": "code",
   "execution_count": 1606,
   "id": "6a80f3b2",
   "metadata": {},
   "outputs": [
    {
     "name": "stdout",
     "output_type": "stream",
     "text": [
      "Mean Charges in North-East:\n",
      " charges    13358.304345\n",
      "dtype: float64\n",
      "Mean Charges in North-West:\n",
      " charges    12431.886866\n",
      "dtype: float64\n",
      "Mean Charges in South-East:\n",
      " charges    14789.200089\n",
      "dtype: float64\n",
      "Mean Charges in South-West:\n",
      " charges    12237.806842\n",
      "dtype: float64\n"
     ]
    }
   ],
   "source": [
    "print(\"Mean Charges in North-East:\\n\", df_enc[[\"charges\"]][df_enc['North-East']==1].mean())\n",
    "print(\"Mean Charges in North-West:\\n\", df_enc[[\"charges\"]][df_enc['North-West']==1].mean())\n",
    "print(\"Mean Charges in South-East:\\n\", df_enc[[\"charges\"]][df_enc['South-East']==1].mean())\n",
    "print(\"Mean Charges in South-West:\\n\", df_enc[[\"charges\"]][df_enc['South-West']==1].mean())"
   ]
  },
  {
   "cell_type": "code",
   "execution_count": 1607,
   "id": "ee0c6631",
   "metadata": {},
   "outputs": [
    {
     "name": "stdout",
     "output_type": "stream",
     "text": [
      "Mean BMI in North-East:\n",
      " bmi    29.33125\n",
      "dtype: float64\n",
      "Mean BMI in North-West:\n",
      " bmi    29.22896\n",
      "dtype: float64\n",
      "Mean BMI in South-East:\n",
      " bmi    33.404956\n",
      "dtype: float64\n",
      "Mean BMI in South-West:\n",
      " bmi    30.601351\n",
      "dtype: float64\n"
     ]
    }
   ],
   "source": [
    "print(\"Mean BMI in North-East:\\n\", df_enc[[\"bmi\"]][df_enc['North-East']==1].mean())\n",
    "print(\"Mean BMI in North-West:\\n\", df_enc[[\"bmi\"]][df_enc['North-West']==1].mean())\n",
    "print(\"Mean BMI in South-East:\\n\", df_enc[[\"bmi\"]][df_enc['South-East']==1].mean())\n",
    "print(\"Mean BMI in South-West:\\n\", df_enc[[\"bmi\"]][df_enc['South-West']==1].mean())"
   ]
  },
  {
   "cell_type": "code",
   "execution_count": 1608,
   "id": "bbf58c68",
   "metadata": {},
   "outputs": [
    {
     "name": "stdout",
     "output_type": "stream",
     "text": [
      "Maximum Age in North-East:\n",
      " age    64\n",
      "dtype: int64\n",
      "Maximum Age in North-West:\n",
      " age    64\n",
      "dtype: int64\n",
      "Maximum Age in South-East:\n",
      " age    64\n",
      "dtype: int64\n",
      "Maximum Age in South-West:\n",
      " age    64\n",
      "dtype: int64\n"
     ]
    }
   ],
   "source": [
    "print(\"Maximum Age in North-East:\\n\", df_enc[[\"age\"]][df_enc['North-East']==1].max())\n",
    "print(\"Maximum Age in North-West:\\n\", df_enc[[\"age\"]][df_enc['North-West']==1].max())\n",
    "print(\"Maximum Age in South-East:\\n\", df_enc[[\"age\"]][df_enc['South-East']==1].max())\n",
    "print(\"Maximum Age in South-West:\\n\", df_enc[[\"age\"]][df_enc['South-West']==1].max())"
   ]
  },
  {
   "cell_type": "code",
   "execution_count": 1609,
   "id": "45d3d547",
   "metadata": {},
   "outputs": [
    {
     "name": "stdout",
     "output_type": "stream",
     "text": [
      "Total smokers in North-East:\n",
      " smoker    59\n",
      "dtype: int64\n",
      "Total smokers in North-West:\n",
      " smoker    53\n",
      "dtype: int64\n",
      "Total smokers in South-East:\n",
      " smoker    85\n",
      "dtype: int64\n",
      "Total smokers in South-West:\n",
      " smoker    51\n",
      "dtype: int64\n"
     ]
    }
   ],
   "source": [
    "print(\"Total smokers in North-East:\\n\", df_enc[[\"smoker\"]][df_enc['North-East']==1].sum())\n",
    "print(\"Total smokers in North-West:\\n\", df_enc[[\"smoker\"]][df_enc['North-West']==1].sum())\n",
    "print(\"Total smokers in South-East:\\n\", df_enc[[\"smoker\"]][df_enc['South-East']==1].sum())\n",
    "print(\"Total smokers in South-West:\\n\", df_enc[[\"smoker\"]][df_enc['South-West']==1].sum())"
   ]
  },
  {
   "cell_type": "code",
   "execution_count": 1610,
   "id": "b374ba98",
   "metadata": {},
   "outputs": [
    {
     "data": {
      "text/plain": [
       "1.1209677419354838"
      ]
     },
     "execution_count": 1610,
     "metadata": {},
     "output_type": "execute_result"
    }
   ],
   "source": [
    "df_enc[\"children\"][df_enc[\"smoker\"]==1].mean()"
   ]
  },
  {
   "cell_type": "code",
   "execution_count": 1611,
   "id": "15f898db",
   "metadata": {},
   "outputs": [
    {
     "data": {
      "text/plain": [
       "1.0808080808080809"
      ]
     },
     "execution_count": 1611,
     "metadata": {},
     "output_type": "execute_result"
    }
   ],
   "source": [
    "df_enc[\"children\"][df_enc[\"smoker\"]==0].mean()"
   ]
  },
  {
   "cell_type": "code",
   "execution_count": 1612,
   "id": "81cc2f86",
   "metadata": {},
   "outputs": [],
   "source": [
    "#df_enc=df_enc.drop(\"children\", axis=1)"
   ]
  },
  {
   "cell_type": "code",
   "execution_count": 1613,
   "id": "4a5affc1",
   "metadata": {},
   "outputs": [],
   "source": [
    "df_enc=df_enc[[\"age\", \"bmi\", \"smoker\", \"charges\"]]"
   ]
  },
  {
   "cell_type": "code",
   "execution_count": 1614,
   "id": "91767477",
   "metadata": {},
   "outputs": [
    {
     "data": {
      "text/plain": [
       "age    39.70202\n",
       "dtype: float64"
      ]
     },
     "execution_count": 1614,
     "metadata": {},
     "output_type": "execute_result"
    }
   ],
   "source": [
    "df_enc[[\"age\"]][df_enc[\"smoker\"]==0].mean()"
   ]
  },
  {
   "cell_type": "code",
   "execution_count": 1615,
   "id": "c5d444da",
   "metadata": {},
   "outputs": [
    {
     "data": {
      "text/plain": [
       "<Axes: >"
      ]
     },
     "execution_count": 1615,
     "metadata": {},
     "output_type": "execute_result"
    },
    {
     "data": {
      "image/png": "[encoded data removed]",
      "text/plain": [
       "<Figure size 300x400 with 1 Axes>"
      ]
     },
     "metadata": {},
     "output_type": "display_data"
    }
   ],
   "source": [
    "df_enc[\"smoker\"][df_enc[\"age\"]<25].value_counts().plot.bar(figsize=(3, 4), color = \"y\")"
   ]
  },
  {
   "cell_type": "code",
   "execution_count": 1616,
   "id": "58dc904f",
   "metadata": {},
   "outputs": [
    {
     "data": {
      "text/plain": [
       "<Axes: >"
      ]
     },
     "execution_count": 1616,
     "metadata": {},
     "output_type": "execute_result"
    },
    {
     "data": {
      "image/png": "[encoded data removed]",
      "text/plain": [
       "<Figure size 300x400 with 1 Axes>"
      ]
     },
     "metadata": {},
     "output_type": "display_data"
    }
   ],
   "source": [
    "df_enc[\"smoker\"][df_enc[\"age\"]>25][df_enc[\"age\"]<50].value_counts().plot.bar(figsize=(3, 4), color=\"orange\")"
   ]
  },
  {
   "cell_type": "code",
   "execution_count": 1617,
   "id": "96c97ce1",
   "metadata": {},
   "outputs": [
    {
     "data": {
      "text/plain": [
       "<Axes: >"
      ]
     },
     "execution_count": 1617,
     "metadata": {},
     "output_type": "execute_result"
    },
    {
     "data": {
      "image/png": "[encoded data removed]",
      "text/plain": [
       "<Figure size 300x400 with 1 Axes>"
      ]
     },
     "metadata": {},
     "output_type": "display_data"
    }
   ],
   "source": [
    "df_enc[\"smoker\"][df_enc[\"age\"]>50].value_counts().plot.bar(figsize=(3, 4))"
   ]
  },
  {
   "cell_type": "code",
   "execution_count": 1618,
   "id": "c3e6c022",
   "metadata": {},
   "outputs": [
    {
     "data": {
      "image/png": "[encoded data removed]",
      "text/plain": [
       "<Figure size 640x480 with 1 Axes>"
      ]
     },
     "metadata": {},
     "output_type": "display_data"
    }
   ],
   "source": [
    "plt.scatter(df_enc[\"age\"], df_enc[\"bmi\"])\n",
    "plt.xlabel(\"Age\")\n",
    "plt.ylabel(\"bmi\")\n",
    "plt.show()"
   ]
  },
  {
   "cell_type": "code",
   "execution_count": 1619,
   "id": "b40cfffd",
   "metadata": {},
   "outputs": [
    {
     "data": {
      "text/plain": [
       "<Axes: >"
      ]
     },
     "execution_count": 1619,
     "metadata": {},
     "output_type": "execute_result"
    },
    {
     "data": {
      "image/png": "[encoded data removed]",
      "text/plain": [
       "<Figure size 640x480 with 1 Axes>"
      ]
     },
     "metadata": {},
     "output_type": "display_data"
    }
   ],
   "source": [
    "df_enc.corr().plot.bar(legend=False)"
   ]
  },
  {
   "cell_type": "code",
   "execution_count": 1620,
   "id": "67355144",
   "metadata": {},
   "outputs": [
    {
     "data": {
      "text/html": [
       "<div>\n",
       "<style scoped>\n",
       "    .dataframe tbody tr th:only-of-type {\n",
       "        vertical-align: middle;\n",
       "    }\n",
       "\n",
       "    .dataframe tbody tr th {\n",
       "        vertical-align: top;\n",
       "    }\n",
       "\n",
       "    .dataframe thead th {\n",
       "        text-align: right;\n",
       "    }\n",
       "</style>\n",
       "<table border=\"1\" class=\"dataframe\">\n",
       "  <thead>\n",
       "    <tr style=\"text-align: right;\">\n",
       "      <th></th>\n",
       "      <th>smoker</th>\n",
       "      <th>charges</th>\n",
       "    </tr>\n",
       "  </thead>\n",
       "  <tbody>\n",
       "    <tr>\n",
       "      <th>smoker</th>\n",
       "      <td>1.000000</td>\n",
       "      <td>0.785143</td>\n",
       "    </tr>\n",
       "    <tr>\n",
       "      <th>charges</th>\n",
       "      <td>0.785143</td>\n",
       "      <td>1.000000</td>\n",
       "    </tr>\n",
       "  </tbody>\n",
       "</table>\n",
       "</div>"
      ],
      "text/plain": [
       "           smoker   charges\n",
       "smoker   1.000000  0.785143\n",
       "charges  0.785143  1.000000"
      ]
     },
     "execution_count": 1620,
     "metadata": {},
     "output_type": "execute_result"
    }
   ],
   "source": [
    "df_enc[[\"smoker\", \"charges\"]].corr()"
   ]
  },
  {
   "cell_type": "code",
   "execution_count": 1621,
   "id": "1a5f1be1",
   "metadata": {},
   "outputs": [
    {
     "data": {
      "text/plain": [
       "7956153.9023"
      ]
     },
     "execution_count": 1621,
     "metadata": {},
     "output_type": "execute_result"
    }
   ],
   "source": [
    "#average charges for smokers and non smokers\n",
    "\n",
    "f=df_enc[\"charges\"][df_enc[\"smoker\"]==1].sum()\n",
    "f"
   ]
  },
  {
   "cell_type": "code",
   "execution_count": 1622,
   "id": "d4993050",
   "metadata": {},
   "outputs": [
    {
     "data": {
      "text/plain": [
       "8454128.777159"
      ]
     },
     "execution_count": 1622,
     "metadata": {},
     "output_type": "execute_result"
    }
   ],
   "source": [
    "g=df_enc[\"charges\"][df_enc[\"smoker\"]==0].sum()\n",
    "g"
   ]
  },
  {
   "cell_type": "code",
   "execution_count": 1623,
   "id": "5b9008d1",
   "metadata": {},
   "outputs": [
    {
     "data": {
      "image/png": "[encoded data removed]",
      "text/plain": [
       "<Figure size 640x480 with 1 Axes>"
      ]
     },
     "metadata": {},
     "output_type": "display_data"
    }
   ],
   "source": [
    "plt.pie([f,g],labels= [\"Total Charges by Smokers\", \"Total Charges by Non-Smokers\"],\n",
    "        explode=[0.1,0], shadow=True, autopct = \"%.1f%%\", startangle =90);"
   ]
  },
  {
   "cell_type": "code",
   "execution_count": 1624,
   "id": "755093c3",
   "metadata": {},
   "outputs": [
    {
     "data": {
      "image/png": "[encoded data removed]",
      "text/plain": [
       "<Figure size 640x480 with 1 Axes>"
      ]
     },
     "metadata": {},
     "output_type": "display_data"
    }
   ],
   "source": [
    "f=df_enc[\"charges\"][df_enc[\"smoker\"]==1].mean()\n",
    "g=df_enc[\"charges\"][df_enc[\"smoker\"]==0].mean()\n",
    "plt.pie([f,g], labels=[\"Mean Charge of smoker\", \"Mean Charge of Non-smoker\"],\n",
    "       explode=[0.1,0], shadow=True, startangle =90)\n",
    "plt.show()"
   ]
  },
  {
   "cell_type": "code",
   "execution_count": 1625,
   "id": "85cc3c03",
   "metadata": {},
   "outputs": [
    {
     "data": {
      "text/html": [
       "<div>\n",
       "<style scoped>\n",
       "    .dataframe tbody tr th:only-of-type {\n",
       "        vertical-align: middle;\n",
       "    }\n",
       "\n",
       "    .dataframe tbody tr th {\n",
       "        vertical-align: top;\n",
       "    }\n",
       "\n",
       "    .dataframe thead th {\n",
       "        text-align: right;\n",
       "    }\n",
       "</style>\n",
       "<table border=\"1\" class=\"dataframe\">\n",
       "  <thead>\n",
       "    <tr style=\"text-align: right;\">\n",
       "      <th></th>\n",
       "      <th>age</th>\n",
       "      <th>bmi</th>\n",
       "      <th>charges</th>\n",
       "      <th>smoker_0</th>\n",
       "      <th>smoker_1</th>\n",
       "    </tr>\n",
       "  </thead>\n",
       "  <tbody>\n",
       "    <tr>\n",
       "      <th>0</th>\n",
       "      <td>19</td>\n",
       "      <td>27.900</td>\n",
       "      <td>16884.92400</td>\n",
       "      <td>0</td>\n",
       "      <td>1</td>\n",
       "    </tr>\n",
       "    <tr>\n",
       "      <th>1</th>\n",
       "      <td>18</td>\n",
       "      <td>33.770</td>\n",
       "      <td>1725.55230</td>\n",
       "      <td>1</td>\n",
       "      <td>0</td>\n",
       "    </tr>\n",
       "    <tr>\n",
       "      <th>2</th>\n",
       "      <td>28</td>\n",
       "      <td>33.000</td>\n",
       "      <td>4449.46200</td>\n",
       "      <td>1</td>\n",
       "      <td>0</td>\n",
       "    </tr>\n",
       "    <tr>\n",
       "      <th>3</th>\n",
       "      <td>33</td>\n",
       "      <td>22.705</td>\n",
       "      <td>21984.47061</td>\n",
       "      <td>1</td>\n",
       "      <td>0</td>\n",
       "    </tr>\n",
       "    <tr>\n",
       "      <th>4</th>\n",
       "      <td>32</td>\n",
       "      <td>28.880</td>\n",
       "      <td>3866.85520</td>\n",
       "      <td>1</td>\n",
       "      <td>0</td>\n",
       "    </tr>\n",
       "    <tr>\n",
       "      <th>...</th>\n",
       "      <td>...</td>\n",
       "      <td>...</td>\n",
       "      <td>...</td>\n",
       "      <td>...</td>\n",
       "      <td>...</td>\n",
       "    </tr>\n",
       "    <tr>\n",
       "      <th>1233</th>\n",
       "      <td>58</td>\n",
       "      <td>23.300</td>\n",
       "      <td>11345.51900</td>\n",
       "      <td>1</td>\n",
       "      <td>0</td>\n",
       "    </tr>\n",
       "    <tr>\n",
       "      <th>1234</th>\n",
       "      <td>45</td>\n",
       "      <td>27.830</td>\n",
       "      <td>8515.75870</td>\n",
       "      <td>1</td>\n",
       "      <td>0</td>\n",
       "    </tr>\n",
       "    <tr>\n",
       "      <th>1235</th>\n",
       "      <td>26</td>\n",
       "      <td>31.065</td>\n",
       "      <td>2699.56835</td>\n",
       "      <td>1</td>\n",
       "      <td>0</td>\n",
       "    </tr>\n",
       "    <tr>\n",
       "      <th>1236</th>\n",
       "      <td>63</td>\n",
       "      <td>21.660</td>\n",
       "      <td>14449.85440</td>\n",
       "      <td>1</td>\n",
       "      <td>0</td>\n",
       "    </tr>\n",
       "    <tr>\n",
       "      <th>1237</th>\n",
       "      <td>58</td>\n",
       "      <td>28.215</td>\n",
       "      <td>12224.35085</td>\n",
       "      <td>1</td>\n",
       "      <td>0</td>\n",
       "    </tr>\n",
       "  </tbody>\n",
       "</table>\n",
       "<p>1238 rows × 5 columns</p>\n",
       "</div>"
      ],
      "text/plain": [
       "      age     bmi      charges  smoker_0  smoker_1\n",
       "0      19  27.900  16884.92400         0         1\n",
       "1      18  33.770   1725.55230         1         0\n",
       "2      28  33.000   4449.46200         1         0\n",
       "3      33  22.705  21984.47061         1         0\n",
       "4      32  28.880   3866.85520         1         0\n",
       "...   ...     ...          ...       ...       ...\n",
       "1233   58  23.300  11345.51900         1         0\n",
       "1234   45  27.830   8515.75870         1         0\n",
       "1235   26  31.065   2699.56835         1         0\n",
       "1236   63  21.660  14449.85440         1         0\n",
       "1237   58  28.215  12224.35085         1         0\n",
       "\n",
       "[1238 rows x 5 columns]"
      ]
     },
     "execution_count": 1625,
     "metadata": {},
     "output_type": "execute_result"
    }
   ],
   "source": [
    "dummies = \"smoker\"\n",
    "encoding = pd.get_dummies(df[\"smoker\"], prefix=dummies)\n",
    "df_enc = pd.concat([df_enc, encoding], axis=1)\n",
    "\n",
    "df_enc = df_enc.drop(\"smoker\", axis=1)\n",
    "df_enc"
   ]
  },
  {
   "cell_type": "code",
   "execution_count": null,
   "id": "3351fa88",
   "metadata": {},
   "outputs": [],
   "source": []
  },
  {
   "cell_type": "code",
   "execution_count": 1626,
   "id": "3194fbce",
   "metadata": {},
   "outputs": [
    {
     "data": {
      "text/html": [
       "<div>\n",
       "<style scoped>\n",
       "    .dataframe tbody tr th:only-of-type {\n",
       "        vertical-align: middle;\n",
       "    }\n",
       "\n",
       "    .dataframe tbody tr th {\n",
       "        vertical-align: top;\n",
       "    }\n",
       "\n",
       "    .dataframe thead th {\n",
       "        text-align: right;\n",
       "    }\n",
       "</style>\n",
       "<table border=\"1\" class=\"dataframe\">\n",
       "  <thead>\n",
       "    <tr style=\"text-align: right;\">\n",
       "      <th></th>\n",
       "      <th>age</th>\n",
       "      <th>bmi</th>\n",
       "      <th>smoker_0</th>\n",
       "      <th>smoker_1</th>\n",
       "    </tr>\n",
       "  </thead>\n",
       "  <tbody>\n",
       "    <tr>\n",
       "      <th>0</th>\n",
       "      <td>19</td>\n",
       "      <td>27.900</td>\n",
       "      <td>0</td>\n",
       "      <td>1</td>\n",
       "    </tr>\n",
       "    <tr>\n",
       "      <th>1</th>\n",
       "      <td>18</td>\n",
       "      <td>33.770</td>\n",
       "      <td>1</td>\n",
       "      <td>0</td>\n",
       "    </tr>\n",
       "    <tr>\n",
       "      <th>2</th>\n",
       "      <td>28</td>\n",
       "      <td>33.000</td>\n",
       "      <td>1</td>\n",
       "      <td>0</td>\n",
       "    </tr>\n",
       "    <tr>\n",
       "      <th>3</th>\n",
       "      <td>33</td>\n",
       "      <td>22.705</td>\n",
       "      <td>1</td>\n",
       "      <td>0</td>\n",
       "    </tr>\n",
       "    <tr>\n",
       "      <th>4</th>\n",
       "      <td>32</td>\n",
       "      <td>28.880</td>\n",
       "      <td>1</td>\n",
       "      <td>0</td>\n",
       "    </tr>\n",
       "    <tr>\n",
       "      <th>...</th>\n",
       "      <td>...</td>\n",
       "      <td>...</td>\n",
       "      <td>...</td>\n",
       "      <td>...</td>\n",
       "    </tr>\n",
       "    <tr>\n",
       "      <th>1233</th>\n",
       "      <td>58</td>\n",
       "      <td>23.300</td>\n",
       "      <td>1</td>\n",
       "      <td>0</td>\n",
       "    </tr>\n",
       "    <tr>\n",
       "      <th>1234</th>\n",
       "      <td>45</td>\n",
       "      <td>27.830</td>\n",
       "      <td>1</td>\n",
       "      <td>0</td>\n",
       "    </tr>\n",
       "    <tr>\n",
       "      <th>1235</th>\n",
       "      <td>26</td>\n",
       "      <td>31.065</td>\n",
       "      <td>1</td>\n",
       "      <td>0</td>\n",
       "    </tr>\n",
       "    <tr>\n",
       "      <th>1236</th>\n",
       "      <td>63</td>\n",
       "      <td>21.660</td>\n",
       "      <td>1</td>\n",
       "      <td>0</td>\n",
       "    </tr>\n",
       "    <tr>\n",
       "      <th>1237</th>\n",
       "      <td>58</td>\n",
       "      <td>28.215</td>\n",
       "      <td>1</td>\n",
       "      <td>0</td>\n",
       "    </tr>\n",
       "  </tbody>\n",
       "</table>\n",
       "<p>1238 rows × 4 columns</p>\n",
       "</div>"
      ],
      "text/plain": [
       "      age     bmi  smoker_0  smoker_1\n",
       "0      19  27.900         0         1\n",
       "1      18  33.770         1         0\n",
       "2      28  33.000         1         0\n",
       "3      33  22.705         1         0\n",
       "4      32  28.880         1         0\n",
       "...   ...     ...       ...       ...\n",
       "1233   58  23.300         1         0\n",
       "1234   45  27.830         1         0\n",
       "1235   26  31.065         1         0\n",
       "1236   63  21.660         1         0\n",
       "1237   58  28.215         1         0\n",
       "\n",
       "[1238 rows x 4 columns]"
      ]
     },
     "execution_count": 1626,
     "metadata": {},
     "output_type": "execute_result"
    }
   ],
   "source": [
    "y = df_enc[\"charges\"]\n",
    "X = df_enc.drop(\"charges\", axis=1)\n",
    "X"
   ]
  },
  {
   "cell_type": "code",
   "execution_count": 1627,
   "id": "bb49cf19",
   "metadata": {},
   "outputs": [
    {
     "data": {
      "image/png": "[encoded data removed]",
      "text/plain": [
       "<Figure size 640x480 with 2 Axes>"
      ]
     },
     "metadata": {},
     "output_type": "display_data"
    }
   ],
   "source": [
    "fig,ax = plt.subplots(1,2)\n",
    "\n",
    "ax[0].boxplot(X[[\"age\"]])\n",
    "ax[0].set_title(\"AGE\")\n",
    "\n",
    "ax[1].boxplot(X[[\"bmi\"]])\n",
    "ax[1].set_title(\"BMI\")\n",
    "\n",
    "plt.show()"
   ]
  },
  {
   "cell_type": "code",
   "execution_count": 1628,
   "id": "b78e4440",
   "metadata": {},
   "outputs": [
    {
     "data": {
      "text/plain": [
       "52.58"
      ]
     },
     "execution_count": 1628,
     "metadata": {},
     "output_type": "execute_result"
    }
   ],
   "source": [
    "X[\"bmi\"].max()"
   ]
  },
  {
   "cell_type": "code",
   "execution_count": 1629,
   "id": "4d7d69b3",
   "metadata": {},
   "outputs": [],
   "source": [
    "mx = MinMaxScaler()\n",
    "df_mx = mx.fit_transform(X)\n",
    "X = pd.DataFrame(df_mx,columns=X.columns)\n",
    "X = np.array(X)"
   ]
  },
  {
   "cell_type": "markdown",
   "id": "79003189",
   "metadata": {},
   "source": [
    "## Non-Linear Regression"
   ]
  },
  {
   "cell_type": "markdown",
   "id": "066c84d2",
   "metadata": {},
   "source": [
    "### Degree 2"
   ]
  },
  {
   "cell_type": "code",
   "execution_count": 1630,
   "id": "a00f879a",
   "metadata": {},
   "outputs": [],
   "source": [
    "#Degree 2 Polynomial\n",
    "poly_features = PolynomialFeatures(degree=2)\n",
    "X_poly2 = poly_features.fit_transform(X)"
   ]
  },
  {
   "cell_type": "markdown",
   "id": "391b94cf",
   "metadata": {},
   "source": [
    "### Degree 3"
   ]
  },
  {
   "cell_type": "code",
   "execution_count": 1631,
   "id": "76528726",
   "metadata": {},
   "outputs": [],
   "source": [
    "#Degree 3 Polynomial\n",
    "poly_features = PolynomialFeatures(degree=3)\n",
    "X_poly3 = poly_features.fit_transform(X)"
   ]
  },
  {
   "cell_type": "markdown",
   "id": "8853df61",
   "metadata": {},
   "source": [
    "### Degree 4"
   ]
  },
  {
   "cell_type": "code",
   "execution_count": 1632,
   "id": "8a3bec0e",
   "metadata": {},
   "outputs": [],
   "source": [
    "#Degree 3 Polynomial\n",
    "poly_features = PolynomialFeatures(degree=4)\n",
    "X_poly4 = poly_features.fit_transform(X)"
   ]
  },
  {
   "cell_type": "markdown",
   "id": "cb53bfd0",
   "metadata": {},
   "source": [
    "## SGD"
   ]
  },
  {
   "cell_type": "code",
   "execution_count": 1633,
   "id": "d1f3b3c3",
   "metadata": {},
   "outputs": [],
   "source": [
    "sgd = SGDRegressor(eta0=1e-3, alpha =0.0001) # taking alpha as 0.0001"
   ]
  },
  {
   "cell_type": "markdown",
   "id": "7c84726e",
   "metadata": {},
   "source": [
    "## KFOLD loop"
   ]
  },
  {
   "cell_type": "code",
   "execution_count": 1634,
   "id": "e78d7c8f",
   "metadata": {},
   "outputs": [],
   "source": [
    "\n",
    "def SGDnonlinear(n):\n",
    "    \n",
    "    k=5\n",
    "    kf = KFold(k)\n",
    "    epochs=3000\n",
    "    train_losses = np.zeros(epochs)\n",
    "    val_losses = np.zeros(epochs)\n",
    "    sgd = SGDRegressor(eta0=1e-3, alpha =0.0001)\n",
    "    poly_features = PolynomialFeatures(degree=n)\n",
    "    \n",
    "    for train_i, val_i in kf.split(X):\n",
    "\n",
    "        X_train_poly, X_val_poly = X[train_i], X[val_i]\n",
    "        y_train, y_val = y[train_i], y[val_i]\n",
    "\n",
    "        X_train = poly_features.fit_transform(X_train_poly)\n",
    "        X_val = poly_features.fit_transform(X_val_poly)\n",
    "\n",
    "        # Performed partial fit for multiple iterations\n",
    "        for epoch in range(epochs):\n",
    "\n",
    "            \n",
    "            sgd.partial_fit(X_train, y_train)\n",
    "\n",
    "            # Calculated training loss\n",
    "            train_loss = np.mean((sgd.predict(X_train) - y_train)**2)\n",
    "            train_losses[epoch]+=np.sqrt(train_loss)\n",
    "\n",
    "            # Calculated validation loss\n",
    "            val_loss = np.mean((sgd.predict(X_val) - y_val)**2)\n",
    "            val_losses[epoch]+=(np.sqrt(val_loss))    \n",
    "\n",
    "    # Dividing by k-splits\n",
    "    train_losses/=k\n",
    "    val_losses/=k\n",
    "\n",
    "    print(\"RMSE training: \", train_losses[-1]) # -1--> last element of the array\n",
    "    print(\"RMSE validation: \", val_losses[-1]) # -1--> last element of the array\n",
    "\n",
    "    plt.plot(train_losses, label='Training Loss')\n",
    "    plt.plot(val_losses, label='Testing Loss')\n",
    "    plt.xlabel('Epochs')\n",
    "    plt.ylabel(f'Root Mean Squared Error (RMSE){n}')\n",
    "    plt.title('Loss Function over Training Epochs')\n",
    "    plt.legend()\n",
    "    plt.show()\n",
    "    return sgd, poly_features # returns the model and polynomial instance"
   ]
  },
  {
   "cell_type": "code",
   "execution_count": 1635,
   "id": "8d4d69cc",
   "metadata": {},
   "outputs": [
    {
     "name": "stdout",
     "output_type": "stream",
     "text": [
      "RMSE training:  6058.572703163198\n",
      "RMSE validation:  6089.511654489148\n"
     ]
    },
    {
     "data": {
      "image/png": "[encoded data removed]",
      "text/plain": [
       "<Figure size 640x480 with 1 Axes>"
      ]
     },
     "metadata": {},
     "output_type": "display_data"
    },
    {
     "data": {
      "text/plain": [
       "(SGDRegressor(eta0=0.001), PolynomialFeatures(degree=1))"
      ]
     },
     "execution_count": 1635,
     "metadata": {},
     "output_type": "execute_result"
    }
   ],
   "source": [
    "SGDnonlinear(1) # degree =1"
   ]
  },
  {
   "cell_type": "code",
   "execution_count": 1636,
   "id": "6ae5fc0a",
   "metadata": {},
   "outputs": [
    {
     "name": "stdout",
     "output_type": "stream",
     "text": [
      "RMSE training:  4957.644876453141\n",
      "RMSE validation:  5002.701106690902\n"
     ]
    },
    {
     "data": {
      "image/png": "[encoded data removed]",
      "text/plain": [
       "<Figure size 640x480 with 1 Axes>"
      ]
     },
     "metadata": {},
     "output_type": "display_data"
    },
    {
     "data": {
      "text/plain": [
       "(SGDRegressor(eta0=0.001), PolynomialFeatures())"
      ]
     },
     "execution_count": 1636,
     "metadata": {},
     "output_type": "execute_result"
    }
   ],
   "source": [
    "SGDnonlinear(2) # degree = 2"
   ]
  },
  {
   "cell_type": "code",
   "execution_count": 1637,
   "id": "cbabf0ba",
   "metadata": {},
   "outputs": [
    {
     "name": "stdout",
     "output_type": "stream",
     "text": [
      "RMSE training:  4870.237144130287\n",
      "RMSE validation:  4899.327413313922\n"
     ]
    },
    {
     "data": {
      "image/png": "[encoded data removed]",
      "text/plain": [
       "<Figure size 640x480 with 1 Axes>"
      ]
     },
     "metadata": {},
     "output_type": "display_data"
    },
    {
     "data": {
      "text/plain": [
       "(SGDRegressor(eta0=0.001), PolynomialFeatures(degree=3))"
      ]
     },
     "execution_count": 1637,
     "metadata": {},
     "output_type": "execute_result"
    }
   ],
   "source": [
    "SGDnonlinear(3) #degree = 3"
   ]
  },
  {
   "cell_type": "code",
   "execution_count": 1638,
   "id": "71438f12",
   "metadata": {},
   "outputs": [
    {
     "name": "stdout",
     "output_type": "stream",
     "text": [
      "RMSE training:  4854.84586180381\n",
      "RMSE validation:  4877.558751720962\n"
     ]
    },
    {
     "data": {
      "image/png": "[encoded data removed]",
      "text/plain": [
       "<Figure size 640x480 with 1 Axes>"
      ]
     },
     "metadata": {},
     "output_type": "display_data"
    },
    {
     "data": {
      "text/plain": [
       "(SGDRegressor(eta0=0.001), PolynomialFeatures(degree=4))"
      ]
     },
     "execution_count": 1638,
     "metadata": {},
     "output_type": "execute_result"
    }
   ],
   "source": [
    "SGDnonlinear(4) # degree = 3"
   ]
  },
  {
   "cell_type": "markdown",
   "id": "ac89c4f6",
   "metadata": {},
   "source": [
    "## Test"
   ]
  },
  {
   "cell_type": "code",
   "execution_count": 1639,
   "id": "3ba5f8cc",
   "metadata": {},
   "outputs": [
    {
     "data": {
      "text/html": [
       "<div>\n",
       "<style scoped>\n",
       "    .dataframe tbody tr th:only-of-type {\n",
       "        vertical-align: middle;\n",
       "    }\n",
       "\n",
       "    .dataframe tbody tr th {\n",
       "        vertical-align: top;\n",
       "    }\n",
       "\n",
       "    .dataframe thead th {\n",
       "        text-align: right;\n",
       "    }\n",
       "</style>\n",
       "<table border=\"1\" class=\"dataframe\">\n",
       "  <thead>\n",
       "    <tr style=\"text-align: right;\">\n",
       "      <th></th>\n",
       "      <th>age</th>\n",
       "      <th>sex</th>\n",
       "      <th>bmi</th>\n",
       "      <th>children</th>\n",
       "      <th>smoker</th>\n",
       "      <th>region</th>\n",
       "      <th>charges</th>\n",
       "    </tr>\n",
       "  </thead>\n",
       "  <tbody>\n",
       "    <tr>\n",
       "      <th>0</th>\n",
       "      <td>37</td>\n",
       "      <td>male</td>\n",
       "      <td>22.705</td>\n",
       "      <td>3</td>\n",
       "      <td>no</td>\n",
       "      <td>northeast</td>\n",
       "      <td>NaN</td>\n",
       "    </tr>\n",
       "    <tr>\n",
       "      <th>1</th>\n",
       "      <td>25</td>\n",
       "      <td>female</td>\n",
       "      <td>42.130</td>\n",
       "      <td>1</td>\n",
       "      <td>no</td>\n",
       "      <td>southeast</td>\n",
       "      <td>NaN</td>\n",
       "    </tr>\n",
       "    <tr>\n",
       "      <th>2</th>\n",
       "      <td>52</td>\n",
       "      <td>male</td>\n",
       "      <td>41.800</td>\n",
       "      <td>2</td>\n",
       "      <td>yes</td>\n",
       "      <td>southeast</td>\n",
       "      <td>NaN</td>\n",
       "    </tr>\n",
       "    <tr>\n",
       "      <th>3</th>\n",
       "      <td>64</td>\n",
       "      <td>male</td>\n",
       "      <td>36.960</td>\n",
       "      <td>2</td>\n",
       "      <td>yes</td>\n",
       "      <td>southeast</td>\n",
       "      <td>NaN</td>\n",
       "    </tr>\n",
       "    <tr>\n",
       "      <th>4</th>\n",
       "      <td>22</td>\n",
       "      <td>female</td>\n",
       "      <td>21.280</td>\n",
       "      <td>3</td>\n",
       "      <td>no</td>\n",
       "      <td>northwest</td>\n",
       "      <td>NaN</td>\n",
       "    </tr>\n",
       "  </tbody>\n",
       "</table>\n",
       "</div>"
      ],
      "text/plain": [
       "   age     sex     bmi  children smoker     region  charges\n",
       "0   37    male  22.705         3     no  northeast      NaN\n",
       "1   25  female  42.130         1     no  southeast      NaN\n",
       "2   52    male  41.800         2    yes  southeast      NaN\n",
       "3   64    male  36.960         2    yes  southeast      NaN\n",
       "4   22  female  21.280         3     no  northwest      NaN"
      ]
     },
     "execution_count": 1639,
     "metadata": {},
     "output_type": "execute_result"
    }
   ],
   "source": [
    "df_test= pd.read_csv(\"test.csv\")\n",
    "df_test.head()"
   ]
  },
  {
   "cell_type": "code",
   "execution_count": 1640,
   "id": "cb3196e3",
   "metadata": {},
   "outputs": [
    {
     "data": {
      "text/plain": [
       "(100, 7)"
      ]
     },
     "execution_count": 1640,
     "metadata": {},
     "output_type": "execute_result"
    }
   ],
   "source": [
    "df_test.shape"
   ]
  },
  {
   "cell_type": "code",
   "execution_count": 1641,
   "id": "efb06543",
   "metadata": {},
   "outputs": [
    {
     "data": {
      "text/html": [
       "<div>\n",
       "<style scoped>\n",
       "    .dataframe tbody tr th:only-of-type {\n",
       "        vertical-align: middle;\n",
       "    }\n",
       "\n",
       "    .dataframe tbody tr th {\n",
       "        vertical-align: top;\n",
       "    }\n",
       "\n",
       "    .dataframe thead th {\n",
       "        text-align: right;\n",
       "    }\n",
       "</style>\n",
       "<table border=\"1\" class=\"dataframe\">\n",
       "  <thead>\n",
       "    <tr style=\"text-align: right;\">\n",
       "      <th></th>\n",
       "      <th>age</th>\n",
       "      <th>sex</th>\n",
       "      <th>bmi</th>\n",
       "      <th>children</th>\n",
       "      <th>region</th>\n",
       "      <th>charges</th>\n",
       "      <th>smoker_0</th>\n",
       "      <th>smoker_1</th>\n",
       "    </tr>\n",
       "  </thead>\n",
       "  <tbody>\n",
       "    <tr>\n",
       "      <th>0</th>\n",
       "      <td>37</td>\n",
       "      <td>male</td>\n",
       "      <td>22.705</td>\n",
       "      <td>3</td>\n",
       "      <td>northeast</td>\n",
       "      <td>NaN</td>\n",
       "      <td>1</td>\n",
       "      <td>0</td>\n",
       "    </tr>\n",
       "    <tr>\n",
       "      <th>1</th>\n",
       "      <td>25</td>\n",
       "      <td>female</td>\n",
       "      <td>42.130</td>\n",
       "      <td>1</td>\n",
       "      <td>southeast</td>\n",
       "      <td>NaN</td>\n",
       "      <td>1</td>\n",
       "      <td>0</td>\n",
       "    </tr>\n",
       "    <tr>\n",
       "      <th>2</th>\n",
       "      <td>52</td>\n",
       "      <td>male</td>\n",
       "      <td>41.800</td>\n",
       "      <td>2</td>\n",
       "      <td>southeast</td>\n",
       "      <td>NaN</td>\n",
       "      <td>0</td>\n",
       "      <td>1</td>\n",
       "    </tr>\n",
       "    <tr>\n",
       "      <th>3</th>\n",
       "      <td>64</td>\n",
       "      <td>male</td>\n",
       "      <td>36.960</td>\n",
       "      <td>2</td>\n",
       "      <td>southeast</td>\n",
       "      <td>NaN</td>\n",
       "      <td>0</td>\n",
       "      <td>1</td>\n",
       "    </tr>\n",
       "    <tr>\n",
       "      <th>4</th>\n",
       "      <td>22</td>\n",
       "      <td>female</td>\n",
       "      <td>21.280</td>\n",
       "      <td>3</td>\n",
       "      <td>northwest</td>\n",
       "      <td>NaN</td>\n",
       "      <td>1</td>\n",
       "      <td>0</td>\n",
       "    </tr>\n",
       "    <tr>\n",
       "      <th>...</th>\n",
       "      <td>...</td>\n",
       "      <td>...</td>\n",
       "      <td>...</td>\n",
       "      <td>...</td>\n",
       "      <td>...</td>\n",
       "      <td>...</td>\n",
       "      <td>...</td>\n",
       "      <td>...</td>\n",
       "    </tr>\n",
       "    <tr>\n",
       "      <th>95</th>\n",
       "      <td>50</td>\n",
       "      <td>male</td>\n",
       "      <td>30.970</td>\n",
       "      <td>3</td>\n",
       "      <td>northwest</td>\n",
       "      <td>NaN</td>\n",
       "      <td>1</td>\n",
       "      <td>0</td>\n",
       "    </tr>\n",
       "    <tr>\n",
       "      <th>96</th>\n",
       "      <td>18</td>\n",
       "      <td>female</td>\n",
       "      <td>31.920</td>\n",
       "      <td>0</td>\n",
       "      <td>northeast</td>\n",
       "      <td>NaN</td>\n",
       "      <td>1</td>\n",
       "      <td>0</td>\n",
       "    </tr>\n",
       "    <tr>\n",
       "      <th>97</th>\n",
       "      <td>18</td>\n",
       "      <td>female</td>\n",
       "      <td>36.850</td>\n",
       "      <td>0</td>\n",
       "      <td>southeast</td>\n",
       "      <td>NaN</td>\n",
       "      <td>1</td>\n",
       "      <td>0</td>\n",
       "    </tr>\n",
       "    <tr>\n",
       "      <th>98</th>\n",
       "      <td>21</td>\n",
       "      <td>female</td>\n",
       "      <td>25.800</td>\n",
       "      <td>0</td>\n",
       "      <td>southwest</td>\n",
       "      <td>NaN</td>\n",
       "      <td>1</td>\n",
       "      <td>0</td>\n",
       "    </tr>\n",
       "    <tr>\n",
       "      <th>99</th>\n",
       "      <td>61</td>\n",
       "      <td>female</td>\n",
       "      <td>29.070</td>\n",
       "      <td>0</td>\n",
       "      <td>northwest</td>\n",
       "      <td>NaN</td>\n",
       "      <td>0</td>\n",
       "      <td>1</td>\n",
       "    </tr>\n",
       "  </tbody>\n",
       "</table>\n",
       "<p>100 rows × 8 columns</p>\n",
       "</div>"
      ],
      "text/plain": [
       "    age     sex     bmi  children     region  charges  smoker_0  smoker_1\n",
       "0    37    male  22.705         3  northeast      NaN         1         0\n",
       "1    25  female  42.130         1  southeast      NaN         1         0\n",
       "2    52    male  41.800         2  southeast      NaN         0         1\n",
       "3    64    male  36.960         2  southeast      NaN         0         1\n",
       "4    22  female  21.280         3  northwest      NaN         1         0\n",
       "..  ...     ...     ...       ...        ...      ...       ...       ...\n",
       "95   50    male  30.970         3  northwest      NaN         1         0\n",
       "96   18  female  31.920         0  northeast      NaN         1         0\n",
       "97   18  female  36.850         0  southeast      NaN         1         0\n",
       "98   21  female  25.800         0  southwest      NaN         1         0\n",
       "99   61  female  29.070         0  northwest      NaN         0         1\n",
       "\n",
       "[100 rows x 8 columns]"
      ]
     },
     "execution_count": 1641,
     "metadata": {},
     "output_type": "execute_result"
    }
   ],
   "source": [
    "# one-hot encoding for smokers\n",
    "df_test[\"smoker\"] = df_test[\"smoker\"].replace(\"yes\",1).replace(\"no\",0)\n",
    "dummies = \"smoker\"\n",
    "encoding = pd.get_dummies(df_test[\"smoker\"], prefix=dummies)\n",
    "df_test = pd.concat([df_test, encoding], axis=1)\n",
    "df_test = df_test.drop(\"smoker\", axis=1)\n",
    "df_test"
   ]
  },
  {
   "cell_type": "code",
   "execution_count": 1642,
   "id": "4f656c9b",
   "metadata": {},
   "outputs": [],
   "source": [
    "df_test_enc = df_test[[\"age\", \"bmi\", \"smoker_0\",\"smoker_1\"]]"
   ]
  },
  {
   "cell_type": "code",
   "execution_count": 1643,
   "id": "f9f6a209",
   "metadata": {},
   "outputs": [],
   "source": [
    "sct = MinMaxScaler()\n",
    "df_test_scaler = sct.fit_transform(df_test_enc)\n",
    "test_X = pd.DataFrame(df_test_scaler, columns = df_test_enc.columns)"
   ]
  },
  {
   "cell_type": "code",
   "execution_count": 1644,
   "id": "09b2a91a",
   "metadata": {},
   "outputs": [],
   "source": [
    "test_X = pd.DataFrame(df_test_scaler, columns = df_test_enc.columns)"
   ]
  },
  {
   "cell_type": "code",
   "execution_count": 1645,
   "id": "c207c38c",
   "metadata": {},
   "outputs": [
    {
     "data": {
      "text/html": [
       "<div>\n",
       "<style scoped>\n",
       "    .dataframe tbody tr th:only-of-type {\n",
       "        vertical-align: middle;\n",
       "    }\n",
       "\n",
       "    .dataframe tbody tr th {\n",
       "        vertical-align: top;\n",
       "    }\n",
       "\n",
       "    .dataframe thead th {\n",
       "        text-align: right;\n",
       "    }\n",
       "</style>\n",
       "<table border=\"1\" class=\"dataframe\">\n",
       "  <thead>\n",
       "    <tr style=\"text-align: right;\">\n",
       "      <th></th>\n",
       "      <th>age</th>\n",
       "      <th>bmi</th>\n",
       "      <th>smoker_0</th>\n",
       "      <th>smoker_1</th>\n",
       "    </tr>\n",
       "  </thead>\n",
       "  <tbody>\n",
       "    <tr>\n",
       "      <th>0</th>\n",
       "      <td>0.413043</td>\n",
       "      <td>0.151088</td>\n",
       "      <td>1.0</td>\n",
       "      <td>0.0</td>\n",
       "    </tr>\n",
       "    <tr>\n",
       "      <th>1</th>\n",
       "      <td>0.152174</td>\n",
       "      <td>0.693080</td>\n",
       "      <td>1.0</td>\n",
       "      <td>0.0</td>\n",
       "    </tr>\n",
       "    <tr>\n",
       "      <th>2</th>\n",
       "      <td>0.739130</td>\n",
       "      <td>0.683873</td>\n",
       "      <td>0.0</td>\n",
       "      <td>1.0</td>\n",
       "    </tr>\n",
       "    <tr>\n",
       "      <th>3</th>\n",
       "      <td>1.000000</td>\n",
       "      <td>0.548828</td>\n",
       "      <td>0.0</td>\n",
       "      <td>1.0</td>\n",
       "    </tr>\n",
       "    <tr>\n",
       "      <th>4</th>\n",
       "      <td>0.086957</td>\n",
       "      <td>0.111328</td>\n",
       "      <td>1.0</td>\n",
       "      <td>0.0</td>\n",
       "    </tr>\n",
       "  </tbody>\n",
       "</table>\n",
       "</div>"
      ],
      "text/plain": [
       "        age       bmi  smoker_0  smoker_1\n",
       "0  0.413043  0.151088       1.0       0.0\n",
       "1  0.152174  0.693080       1.0       0.0\n",
       "2  0.739130  0.683873       0.0       1.0\n",
       "3  1.000000  0.548828       0.0       1.0\n",
       "4  0.086957  0.111328       1.0       0.0"
      ]
     },
     "execution_count": 1645,
     "metadata": {},
     "output_type": "execute_result"
    }
   ],
   "source": [
    "test_X.head()"
   ]
  },
  {
   "cell_type": "code",
   "execution_count": 1646,
   "id": "4a6df7a4",
   "metadata": {},
   "outputs": [
    {
     "name": "stdout",
     "output_type": "stream",
     "text": [
      "RMSE training:  4854.87214898196\n",
      "RMSE validation:  4877.568668174822\n"
     ]
    },
    {
     "data": {
      "image/png": "[encoded data removed]",
      "text/plain": [
       "<Figure size 640x480 with 1 Axes>"
      ]
     },
     "metadata": {},
     "output_type": "display_data"
    }
   ],
   "source": [
    "sgd, poly_features = SGDnonlinear(4)"
   ]
  },
  {
   "cell_type": "code",
   "execution_count": 1647,
   "id": "337983b8",
   "metadata": {},
   "outputs": [],
   "source": [
    "X_test_poly = poly_features.fit_transform(test_X)\n",
    "pred = sgd.predict(X_test_poly)"
   ]
  },
  {
   "cell_type": "code",
   "execution_count": 1648,
   "id": "2db38f69",
   "metadata": {},
   "outputs": [
    {
     "data": {
      "text/html": [
       "<div>\n",
       "<style scoped>\n",
       "    .dataframe tbody tr th:only-of-type {\n",
       "        vertical-align: middle;\n",
       "    }\n",
       "\n",
       "    .dataframe tbody tr th {\n",
       "        vertical-align: top;\n",
       "    }\n",
       "\n",
       "    .dataframe thead th {\n",
       "        text-align: right;\n",
       "    }\n",
       "</style>\n",
       "<table border=\"1\" class=\"dataframe\">\n",
       "  <thead>\n",
       "    <tr style=\"text-align: right;\">\n",
       "      <th></th>\n",
       "      <th>age</th>\n",
       "      <th>sex</th>\n",
       "      <th>bmi</th>\n",
       "      <th>children</th>\n",
       "      <th>region</th>\n",
       "      <th>charges</th>\n",
       "      <th>smoker_0</th>\n",
       "      <th>smoker_1</th>\n",
       "    </tr>\n",
       "  </thead>\n",
       "  <tbody>\n",
       "    <tr>\n",
       "      <th>0</th>\n",
       "      <td>37</td>\n",
       "      <td>male</td>\n",
       "      <td>22.705</td>\n",
       "      <td>3</td>\n",
       "      <td>northeast</td>\n",
       "      <td>6704.349344</td>\n",
       "      <td>1</td>\n",
       "      <td>0</td>\n",
       "    </tr>\n",
       "    <tr>\n",
       "      <th>1</th>\n",
       "      <td>25</td>\n",
       "      <td>female</td>\n",
       "      <td>42.130</td>\n",
       "      <td>1</td>\n",
       "      <td>southeast</td>\n",
       "      <td>4120.683200</td>\n",
       "      <td>1</td>\n",
       "      <td>0</td>\n",
       "    </tr>\n",
       "    <tr>\n",
       "      <th>2</th>\n",
       "      <td>52</td>\n",
       "      <td>male</td>\n",
       "      <td>41.800</td>\n",
       "      <td>2</td>\n",
       "      <td>southeast</td>\n",
       "      <td>51426.441258</td>\n",
       "      <td>0</td>\n",
       "      <td>1</td>\n",
       "    </tr>\n",
       "    <tr>\n",
       "      <th>3</th>\n",
       "      <td>64</td>\n",
       "      <td>male</td>\n",
       "      <td>36.960</td>\n",
       "      <td>2</td>\n",
       "      <td>southeast</td>\n",
       "      <td>47809.016727</td>\n",
       "      <td>0</td>\n",
       "      <td>1</td>\n",
       "    </tr>\n",
       "    <tr>\n",
       "      <th>4</th>\n",
       "      <td>22</td>\n",
       "      <td>female</td>\n",
       "      <td>21.280</td>\n",
       "      <td>3</td>\n",
       "      <td>northwest</td>\n",
       "      <td>3157.051889</td>\n",
       "      <td>1</td>\n",
       "      <td>0</td>\n",
       "    </tr>\n",
       "    <tr>\n",
       "      <th>...</th>\n",
       "      <td>...</td>\n",
       "      <td>...</td>\n",
       "      <td>...</td>\n",
       "      <td>...</td>\n",
       "      <td>...</td>\n",
       "      <td>...</td>\n",
       "      <td>...</td>\n",
       "      <td>...</td>\n",
       "    </tr>\n",
       "    <tr>\n",
       "      <th>95</th>\n",
       "      <td>50</td>\n",
       "      <td>male</td>\n",
       "      <td>30.970</td>\n",
       "      <td>3</td>\n",
       "      <td>northwest</td>\n",
       "      <td>11306.496389</td>\n",
       "      <td>1</td>\n",
       "      <td>0</td>\n",
       "    </tr>\n",
       "    <tr>\n",
       "      <th>96</th>\n",
       "      <td>18</td>\n",
       "      <td>female</td>\n",
       "      <td>31.920</td>\n",
       "      <td>0</td>\n",
       "      <td>northeast</td>\n",
       "      <td>3358.629389</td>\n",
       "      <td>1</td>\n",
       "      <td>0</td>\n",
       "    </tr>\n",
       "    <tr>\n",
       "      <th>97</th>\n",
       "      <td>18</td>\n",
       "      <td>female</td>\n",
       "      <td>36.850</td>\n",
       "      <td>0</td>\n",
       "      <td>southeast</td>\n",
       "      <td>3364.938139</td>\n",
       "      <td>1</td>\n",
       "      <td>0</td>\n",
       "    </tr>\n",
       "    <tr>\n",
       "      <th>98</th>\n",
       "      <td>21</td>\n",
       "      <td>female</td>\n",
       "      <td>25.800</td>\n",
       "      <td>0</td>\n",
       "      <td>southwest</td>\n",
       "      <td>3465.295952</td>\n",
       "      <td>1</td>\n",
       "      <td>0</td>\n",
       "    </tr>\n",
       "    <tr>\n",
       "      <th>99</th>\n",
       "      <td>61</td>\n",
       "      <td>female</td>\n",
       "      <td>29.070</td>\n",
       "      <td>0</td>\n",
       "      <td>northwest</td>\n",
       "      <td>33252.918204</td>\n",
       "      <td>0</td>\n",
       "      <td>1</td>\n",
       "    </tr>\n",
       "  </tbody>\n",
       "</table>\n",
       "<p>100 rows × 8 columns</p>\n",
       "</div>"
      ],
      "text/plain": [
       "    age     sex     bmi  children     region       charges  smoker_0  smoker_1\n",
       "0    37    male  22.705         3  northeast   6704.349344         1         0\n",
       "1    25  female  42.130         1  southeast   4120.683200         1         0\n",
       "2    52    male  41.800         2  southeast  51426.441258         0         1\n",
       "3    64    male  36.960         2  southeast  47809.016727         0         1\n",
       "4    22  female  21.280         3  northwest   3157.051889         1         0\n",
       "..  ...     ...     ...       ...        ...           ...       ...       ...\n",
       "95   50    male  30.970         3  northwest  11306.496389         1         0\n",
       "96   18  female  31.920         0  northeast   3358.629389         1         0\n",
       "97   18  female  36.850         0  southeast   3364.938139         1         0\n",
       "98   21  female  25.800         0  southwest   3465.295952         1         0\n",
       "99   61  female  29.070         0  northwest  33252.918204         0         1\n",
       "\n",
       "[100 rows x 8 columns]"
      ]
     },
     "execution_count": 1648,
     "metadata": {},
     "output_type": "execute_result"
    }
   ],
   "source": [
    "df_test['charges']=pred\n",
    "df_test"
   ]
  },
  {
   "cell_type": "code",
   "execution_count": 1649,
   "id": "48abd6b0",
   "metadata": {},
   "outputs": [
    {
     "data": {
      "text/plain": [
       "1298462.8289454156"
      ]
     },
     "execution_count": 1649,
     "metadata": {},
     "output_type": "execute_result"
    }
   ],
   "source": [
    "price_new_emp=df_test[\"charges\"].sum()\n",
    "price_new_emp"
   ]
  },
  {
   "cell_type": "code",
   "execution_count": 1650,
   "id": "78ad9fd6",
   "metadata": {},
   "outputs": [
    {
     "data": {
      "text/plain": [
       "16410282.679459"
      ]
     },
     "execution_count": 1650,
     "metadata": {},
     "output_type": "execute_result"
    }
   ],
   "source": [
    "price_old_emp=df[\"charges\"].sum()\n",
    "price_old_emp"
   ]
  },
  {
   "cell_type": "code",
   "execution_count": 1651,
   "id": "a05401a2",
   "metadata": {},
   "outputs": [
    {
     "data": {
      "text/plain": [
       "17708745.508404415"
      ]
     },
     "execution_count": 1651,
     "metadata": {},
     "output_type": "execute_result"
    }
   ],
   "source": [
    "total_price_pred= price_new_emp + price_old_emp\n",
    "total_price_pred"
   ]
  },
  {
   "cell_type": "code",
   "execution_count": 1652,
   "id": "9e0cddf5",
   "metadata": {},
   "outputs": [],
   "source": [
    "total_price = 17755825"
   ]
  },
  {
   "cell_type": "code",
   "execution_count": 1653,
   "id": "ba5082c9",
   "metadata": {},
   "outputs": [
    {
     "data": {
      "text/plain": [
       "47079.4915955849"
      ]
     },
     "execution_count": 1653,
     "metadata": {},
     "output_type": "execute_result"
    }
   ],
   "source": [
    "price_dif=total_price-total_price_pred\n",
    "price_dif"
   ]
  },
  {
   "cell_type": "code",
   "execution_count": 1654,
   "id": "eb834b46",
   "metadata": {},
   "outputs": [
    {
     "data": {
      "text/plain": [
       "35.18646606545956"
      ]
     },
     "execution_count": 1654,
     "metadata": {},
     "output_type": "execute_result"
    }
   ],
   "source": [
    "price_dif/1338 # employees"
   ]
  },
  {
   "cell_type": "markdown",
   "id": "fd2282b3",
   "metadata": {},
   "source": [
    "## 47,263.91 Euros Insurance company is asking more"
   ]
  }
 ],
 "metadata": {
  "kernelspec": {
   "display_name": "Python 3 (ipykernel)",
   "language": "python",
   "name": "python3"
  },
  "language_info": {
   "codemirror_mode": {
    "name": "ipython",
    "version": 3
   },
   "file_extension": ".py",
   "mimetype": "text/x-python",
   "name": "python",
   "nbconvert_exporter": "python",
   "pygments_lexer": "ipython3",
   "version": "3.11.4"
  }
 },
 "nbformat": 4,
 "nbformat_minor": 5
}
